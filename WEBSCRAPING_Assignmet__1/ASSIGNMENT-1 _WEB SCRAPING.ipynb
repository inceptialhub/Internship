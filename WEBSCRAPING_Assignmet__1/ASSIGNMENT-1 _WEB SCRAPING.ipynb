{
 "cells": [
  {
   "cell_type": "markdown",
   "id": "573c2cfc",
   "metadata": {},
   "source": [
    "# 1) Write a python program to display all the header tags from wikipedia.org."
   ]
  },
  {
   "cell_type": "code",
   "execution_count": 1,
   "id": "861eef8e",
   "metadata": {},
   "outputs": [],
   "source": [
    "from urllib.request import urlopen\n",
    "import pandas as pd\n",
    "import numpy as np\n",
    "import requests\n",
    "from requests import get\n",
    "from bs4 import BeautifulSoup\n",
    "from bs4 import BeautifulSoup"
   ]
  },
  {
   "cell_type": "code",
   "execution_count": 2,
   "id": "c61e2503",
   "metadata": {},
   "outputs": [],
   "source": [
    "html = urlopen('https://www.wikipedia.org/')\n",
    "bs = BeautifulSoup(html, \"html.parser\")\n"
   ]
  },
  {
   "cell_type": "code",
   "execution_count": 3,
   "id": "00eccf54",
   "metadata": {},
   "outputs": [
    {
     "name": "stdout",
     "output_type": "stream",
     "text": [
      "List all the header tags :\n",
      "\n",
      "<h1 class=\"central-textlogo-wrapper\">\n",
      "<span class=\"central-textlogo__image sprite svg-Wikipedia_wordmark\">\n",
      "Wikipedia\n",
      "</span>\n",
      "<strong class=\"jsl10n localized-slogan\" data-jsl10n=\"portal.slogan\">The Free Encyclopedia</strong>\n",
      "</h1>\n",
      "\n",
      "<h2 class=\"bookshelf-container\">\n",
      "<span class=\"bookshelf\">\n",
      "<span class=\"text\">\n",
      "<bdi dir=\"ltr\">\n",
      "1 000 000+\n",
      "</bdi>\n",
      "<span class=\"jsl10n\" data-jsl10n=\"entries\">\n",
      "articles\n",
      "</span>\n",
      "</span>\n",
      "</span>\n",
      "</h2>\n",
      "\n",
      "<h2 class=\"bookshelf-container\">\n",
      "<span class=\"bookshelf\">\n",
      "<span class=\"text\">\n",
      "<bdi dir=\"ltr\">\n",
      "100 000+\n",
      "</bdi>\n",
      "<span class=\"jsl10n\" data-jsl10n=\"portal.entries\">\n",
      "articles\n",
      "</span>\n",
      "</span>\n",
      "</span>\n",
      "</h2>\n",
      "\n",
      "<h2 class=\"bookshelf-container\">\n",
      "<span class=\"bookshelf\">\n",
      "<span class=\"text\">\n",
      "<bdi dir=\"ltr\">\n",
      "10 000+\n",
      "</bdi>\n",
      "<span class=\"jsl10n\" data-jsl10n=\"portal.entries\">\n",
      "articles\n",
      "</span>\n",
      "</span>\n",
      "</span>\n",
      "</h2>\n",
      "\n",
      "<h2 class=\"bookshelf-container\">\n",
      "<span class=\"bookshelf\">\n",
      "<span class=\"text\">\n",
      "<bdi dir=\"ltr\">\n",
      "1 000+\n",
      "</bdi>\n",
      "<span class=\"jsl10n\" data-jsl10n=\"portal.entries\">\n",
      "articles\n",
      "</span>\n",
      "</span>\n",
      "</span>\n",
      "</h2>\n",
      "\n",
      "<h2 class=\"bookshelf-container\">\n",
      "<span class=\"bookshelf\">\n",
      "<span class=\"text\">\n",
      "<bdi dir=\"ltr\">\n",
      "100+\n",
      "</bdi>\n",
      "<span class=\"jsl10n\" data-jsl10n=\"portal.entries\">\n",
      "articles\n",
      "</span>\n",
      "</span>\n",
      "</span>\n",
      "</h2>\n"
     ]
    }
   ],
   "source": [
    "titles = bs.find_all(['h1', 'h2','h3','h4','h5','h6'])\n",
    "print('List all the header tags :', *titles, sep='\\n\\n')"
   ]
  },
  {
   "cell_type": "markdown",
   "id": "e4bf435b",
   "metadata": {},
   "source": [
    "\n",
    "## 2) Write a python program to display IMDB’s Top rated 100 movies’ data (i.e. name, rating, year of release) and make data frame.\n"
   ]
  },
  {
   "cell_type": "code",
   "execution_count": 12,
   "id": "36e043dc",
   "metadata": {},
   "outputs": [],
   "source": [
    "import pandas as pd\n",
    "import requests\n",
    "from bs4 import BeautifulSoup\n"
   ]
  },
  {
   "cell_type": "code",
   "execution_count": 13,
   "id": "a627e890",
   "metadata": {},
   "outputs": [],
   "source": [
    "imdb_url = \"https://www.imdb.com/search/title/?groups=top_100&sort=user_rating,desc\"\n",
    "results = requests.get(imdb_url)"
   ]
  },
  {
   "cell_type": "code",
   "execution_count": 14,
   "id": "7c60289e",
   "metadata": {},
   "outputs": [],
   "source": [
    "movie_soup = BeautifulSoup(results.text,\"html.parser\")\n",
    "# movie_soup"
   ]
  },
  {
   "cell_type": "code",
   "execution_count": 15,
   "id": "00f89057",
   "metadata": {},
   "outputs": [],
   "source": [
    "movie_name = []\n",
    "year_of_release = []\n",
    "ratings = []"
   ]
  },
  {
   "cell_type": "code",
   "execution_count": 16,
   "id": "25eabbce",
   "metadata": {},
   "outputs": [],
   "source": [
    "movies = movie_soup.find_all('div', class_='lister-item mode-advanced')"
   ]
  },
  {
   "cell_type": "code",
   "execution_count": 17,
   "id": "fc94621a",
   "metadata": {},
   "outputs": [],
   "source": [
    "for container in movies:\n",
    "\n",
    "# Step 9: Add each result from each attribute for each list.\n",
    "\n",
    "        # name\n",
    "        name = container.h3.a.text\n",
    "        movie_name.append(name)\n",
    "        #year\n",
    "        year = container.h3.find('span', class_='lister-item-year').text\n",
    "        year_of_release.append(year)\n",
    "        #  rating\n",
    "        rating = float(container.strong.text)\n",
    "        ratings.append(rating)\n",
    "    \n",
    "movies_df = pd.DataFrame(\n",
    "    {'movie_name': movie_name,\n",
    "     'year_of_release': year_of_release,\n",
    "     'ratings': ratings,}\n",
    ")\n"
   ]
  },
  {
   "cell_type": "code",
   "execution_count": 18,
   "id": "a8740d0b",
   "metadata": {},
   "outputs": [],
   "source": [
    "movies_df['year_of_release'] = movies_df['year_of_release'].str.extract('(\\d+)').astype(int)"
   ]
  },
  {
   "cell_type": "code",
   "execution_count": 19,
   "id": "c239524f",
   "metadata": {},
   "outputs": [
    {
     "data": {
      "text/html": [
       "<div>\n",
       "<style scoped>\n",
       "    .dataframe tbody tr th:only-of-type {\n",
       "        vertical-align: middle;\n",
       "    }\n",
       "\n",
       "    .dataframe tbody tr th {\n",
       "        vertical-align: top;\n",
       "    }\n",
       "\n",
       "    .dataframe thead th {\n",
       "        text-align: right;\n",
       "    }\n",
       "</style>\n",
       "<table border=\"1\" class=\"dataframe\">\n",
       "  <thead>\n",
       "    <tr style=\"text-align: right;\">\n",
       "      <th></th>\n",
       "      <th>movie_name</th>\n",
       "      <th>year_of_release</th>\n",
       "      <th>ratings</th>\n",
       "    </tr>\n",
       "  </thead>\n",
       "  <tbody>\n",
       "    <tr>\n",
       "      <th>0</th>\n",
       "      <td>The Shawshank Redemption</td>\n",
       "      <td>1994</td>\n",
       "      <td>9.3</td>\n",
       "    </tr>\n",
       "    <tr>\n",
       "      <th>1</th>\n",
       "      <td>The Godfather</td>\n",
       "      <td>1972</td>\n",
       "      <td>9.2</td>\n",
       "    </tr>\n",
       "    <tr>\n",
       "      <th>2</th>\n",
       "      <td>The Dark Knight</td>\n",
       "      <td>2008</td>\n",
       "      <td>9.0</td>\n",
       "    </tr>\n",
       "    <tr>\n",
       "      <th>3</th>\n",
       "      <td>The Lord of the Rings: The Return of the King</td>\n",
       "      <td>2003</td>\n",
       "      <td>9.0</td>\n",
       "    </tr>\n",
       "    <tr>\n",
       "      <th>4</th>\n",
       "      <td>The Godfather Part II</td>\n",
       "      <td>1974</td>\n",
       "      <td>9.0</td>\n",
       "    </tr>\n",
       "    <tr>\n",
       "      <th>5</th>\n",
       "      <td>Schindler's List</td>\n",
       "      <td>1993</td>\n",
       "      <td>9.0</td>\n",
       "    </tr>\n",
       "    <tr>\n",
       "      <th>6</th>\n",
       "      <td>12 Angry Men</td>\n",
       "      <td>1957</td>\n",
       "      <td>9.0</td>\n",
       "    </tr>\n",
       "    <tr>\n",
       "      <th>7</th>\n",
       "      <td>Pulp Fiction</td>\n",
       "      <td>1994</td>\n",
       "      <td>8.9</td>\n",
       "    </tr>\n",
       "    <tr>\n",
       "      <th>8</th>\n",
       "      <td>The Lord of the Rings: The Fellowship of the Ring</td>\n",
       "      <td>2001</td>\n",
       "      <td>8.8</td>\n",
       "    </tr>\n",
       "    <tr>\n",
       "      <th>9</th>\n",
       "      <td>Fight Club</td>\n",
       "      <td>1999</td>\n",
       "      <td>8.8</td>\n",
       "    </tr>\n",
       "  </tbody>\n",
       "</table>\n",
       "</div>"
      ],
      "text/plain": [
       "                                          movie_name  year_of_release  ratings\n",
       "0                           The Shawshank Redemption             1994      9.3\n",
       "1                                      The Godfather             1972      9.2\n",
       "2                                    The Dark Knight             2008      9.0\n",
       "3      The Lord of the Rings: The Return of the King             2003      9.0\n",
       "4                              The Godfather Part II             1974      9.0\n",
       "5                                   Schindler's List             1993      9.0\n",
       "6                                       12 Angry Men             1957      9.0\n",
       "7                                       Pulp Fiction             1994      8.9\n",
       "8  The Lord of the Rings: The Fellowship of the Ring             2001      8.8\n",
       "9                                         Fight Club             1999      8.8"
      ]
     },
     "execution_count": 19,
     "metadata": {},
     "output_type": "execute_result"
    }
   ],
   "source": [
    "movies_df.head(10)"
   ]
  },
  {
   "cell_type": "markdown",
   "id": "98163163",
   "metadata": {},
   "source": [
    "# 3) Write a python program to display IMDB’s Top rated 100 Indian movies’ data (i.e. name, rating, year of release) and make data frame."
   ]
  },
  {
   "cell_type": "code",
   "execution_count": 20,
   "id": "b2040551",
   "metadata": {},
   "outputs": [
    {
     "data": {
      "text/plain": [
       "<Response [200]>"
      ]
     },
     "execution_count": 20,
     "metadata": {},
     "output_type": "execute_result"
    }
   ],
   "source": [
    "page = requests.get('https://www.imdb.com/india/top-rated-indian-movies/')\n",
    "page"
   ]
  },
  {
   "cell_type": "code",
   "execution_count": 21,
   "id": "bc1f8b9a",
   "metadata": {},
   "outputs": [],
   "source": [
    "soup=BeautifulSoup(page.content,'html.parser')"
   ]
  },
  {
   "cell_type": "code",
   "execution_count": 22,
   "id": "efd478d0",
   "metadata": {},
   "outputs": [],
   "source": [
    "name=[]\n",
    "for i in soup.find_all('td',class_=\"titleColumn\"):\n",
    "    name.append(i.text.replace(\"\\n\", \"\",)[12:])\n",
    "# name\n",
    "rating=[]\n",
    "for i in soup.find_all('td',class_=\"ratingColumn imdbRating\"):\n",
    "    rating.append(i.text.replace(\"\\n\", \"\"))\n",
    "\n",
    "year=[]\n",
    "for i in soup.find_all('span',class_=\"secondaryInfo\"):\n",
    "    year.append(i.text.replace(\")\", \" \"))\n",
    "# year"
   ]
  },
  {
   "cell_type": "code",
   "execution_count": 23,
   "id": "a0fa9b5e",
   "metadata": {},
   "outputs": [],
   "source": [
    "# print(len(name),len(year),len(rating))"
   ]
  },
  {
   "cell_type": "code",
   "execution_count": 24,
   "id": "d1f5faef",
   "metadata": {},
   "outputs": [
    {
     "data": {
      "text/html": [
       "<div>\n",
       "<style scoped>\n",
       "    .dataframe tbody tr th:only-of-type {\n",
       "        vertical-align: middle;\n",
       "    }\n",
       "\n",
       "    .dataframe tbody tr th {\n",
       "        vertical-align: top;\n",
       "    }\n",
       "\n",
       "    .dataframe thead th {\n",
       "        text-align: right;\n",
       "    }\n",
       "</style>\n",
       "<table border=\"1\" class=\"dataframe\">\n",
       "  <thead>\n",
       "    <tr style=\"text-align: right;\">\n",
       "      <th></th>\n",
       "      <th>Name</th>\n",
       "      <th>Rating</th>\n",
       "      <th>Year_Of_Release</th>\n",
       "    </tr>\n",
       "  </thead>\n",
       "  <tbody>\n",
       "    <tr>\n",
       "      <th>0</th>\n",
       "      <td>Ramayana: The Legend of Prince Rama(1993)</td>\n",
       "      <td>8.5</td>\n",
       "      <td>1993</td>\n",
       "    </tr>\n",
       "    <tr>\n",
       "      <th>1</th>\n",
       "      <td>Rocketry: The Nambi Effect(2022)</td>\n",
       "      <td>8.4</td>\n",
       "      <td>2022</td>\n",
       "    </tr>\n",
       "    <tr>\n",
       "      <th>2</th>\n",
       "      <td>Golmaal(1979)</td>\n",
       "      <td>8.4</td>\n",
       "      <td>1979</td>\n",
       "    </tr>\n",
       "    <tr>\n",
       "      <th>3</th>\n",
       "      <td>Nayakan(1987)</td>\n",
       "      <td>8.4</td>\n",
       "      <td>1987</td>\n",
       "    </tr>\n",
       "    <tr>\n",
       "      <th>4</th>\n",
       "      <td>Anbe Sivam(2003)</td>\n",
       "      <td>8.4</td>\n",
       "      <td>2003</td>\n",
       "    </tr>\n",
       "    <tr>\n",
       "      <th>...</th>\n",
       "      <td>...</td>\n",
       "      <td>...</td>\n",
       "      <td>...</td>\n",
       "    </tr>\n",
       "    <tr>\n",
       "      <th>245</th>\n",
       "      <td>Minnal Murali(2021)</td>\n",
       "      <td>7.7</td>\n",
       "      <td>2021</td>\n",
       "    </tr>\n",
       "    <tr>\n",
       "      <th>246</th>\n",
       "      <td>Poove Unakkaga(1996)</td>\n",
       "      <td>7.7</td>\n",
       "      <td>1996</td>\n",
       "    </tr>\n",
       "    <tr>\n",
       "      <th>247</th>\n",
       "      <td>Goodachari(2018)</td>\n",
       "      <td>7.7</td>\n",
       "      <td>2018</td>\n",
       "    </tr>\n",
       "    <tr>\n",
       "      <th>248</th>\n",
       "      <td>Don(1978)</td>\n",
       "      <td>7.6</td>\n",
       "      <td>1978</td>\n",
       "    </tr>\n",
       "    <tr>\n",
       "      <th>249</th>\n",
       "      <td>Joji(2021)</td>\n",
       "      <td>7.6</td>\n",
       "      <td>2021</td>\n",
       "    </tr>\n",
       "  </tbody>\n",
       "</table>\n",
       "<p>250 rows × 3 columns</p>\n",
       "</div>"
      ],
      "text/plain": [
       "                                            Name Rating  Year_Of_Release\n",
       "0      Ramayana: The Legend of Prince Rama(1993)    8.5             1993\n",
       "1               Rocketry: The Nambi Effect(2022)    8.4             2022\n",
       "2                                  Golmaal(1979)    8.4             1979\n",
       "3                                  Nayakan(1987)    8.4             1987\n",
       "4                               Anbe Sivam(2003)    8.4             2003\n",
       "..                                           ...    ...              ...\n",
       "245                          Minnal Murali(2021)    7.7             2021\n",
       "246                         Poove Unakkaga(1996)    7.7             1996\n",
       "247                             Goodachari(2018)    7.7             2018\n",
       "248                                    Don(1978)    7.6             1978\n",
       "249                                   Joji(2021)    7.6             2021\n",
       "\n",
       "[250 rows x 3 columns]"
      ]
     },
     "execution_count": 24,
     "metadata": {},
     "output_type": "execute_result"
    }
   ],
   "source": [
    "import pandas as pd\n",
    "df1 = pd.DataFrame({'Name':name,'Rating':rating,'Year_Of_Release':year})\n",
    "df1['Year_Of_Release']=df1['Year_Of_Release'].str.extract('(\\d+)').astype(int)\n",
    "df1"
   ]
  },
  {
   "cell_type": "markdown",
   "id": "477efea6",
   "metadata": {},
   "source": [
    "# 4) Write s python program to display list of respected former presidents of India(i.e. Name , Term of office) from https://presidentofindia.nic.in/former-presidents.htm\n"
   ]
  },
  {
   "cell_type": "code",
   "execution_count": 45,
   "id": "02b988a3",
   "metadata": {},
   "outputs": [],
   "source": [
    "page=requests.get('https://presidentofindia.nic.in/former-presidents.htm')"
   ]
  },
  {
   "cell_type": "code",
   "execution_count": 46,
   "id": "bde42c40",
   "metadata": {},
   "outputs": [],
   "source": [
    "soup=BeautifulSoup(page.text,'html.parser')"
   ]
  },
  {
   "cell_type": "code",
   "execution_count": 60,
   "id": "b852e85b",
   "metadata": {},
   "outputs": [],
   "source": [
    "president =[]\n",
    "term_of_office =[]\n",
    "for heading in  soup.find_all('h3'):\n",
    "    president.append(heading.text)\n",
    "#     print(heading_data)\n",
    "\n",
    "for i in soup.find_all('p'):\n",
    "    term_of_office.append(i.text)"
   ]
  },
  {
   "cell_type": "code",
   "execution_count": 61,
   "id": "18261115",
   "metadata": {},
   "outputs": [
    {
     "data": {
      "text/plain": [
       "[\"Twitter's laid-off workers cannot pursue\",\n",
       " \"Wharton's Jeremy Siegel says the U.S. ha\",\n",
       " 'Bitcoin climbs above $20,000 first time ',\n",
       " 'Op-ed: Oil CEO Sultan Al Jaber is the id',\n",
       " \"At least 68 killed in Nepal's worst air \",\n",
       " 'JPMorgan upgrades this under-the-radar L',\n",
       " 'Iranian oil exports end 2022 at a high, ',\n",
       " \"'Flash' star Ezra Miller avoids jail wit\",\n",
       " 'Sweden finds huge deposit of rare earth ',\n",
       " 'Dow closes 100 points higher, S&P 500 an',\n",
       " 'Just one G-7 leader will join Davos elit',\n",
       " 'Dividend stocks are beating the market —',\n",
       " 'Russian missiles strike vital infrastruc',\n",
       " 'U.S. will hit its debt limit Thursday, s',\n",
       " 'Iran executes British-Iranian national d',\n",
       " 'Brazil top court to investigate Bolsonar',\n",
       " 'Qatar, UAE energy ministers say gas will',\n",
       " 'Biden and Kishida discuss Japan ‘steppin',\n",
       " 'CDC says it’s ‘very unlikely’ Pfizer boo',\n",
       " 'A battle between Disney and activist Pel']"
      ]
     },
     "execution_count": 61,
     "metadata": {},
     "output_type": "execute_result"
    }
   ],
   "source": [
    "headlines"
   ]
  },
  {
   "cell_type": "code",
   "execution_count": 62,
   "id": "6988dc31",
   "metadata": {},
   "outputs": [
    {
     "data": {
      "text/plain": [
       "['Term of Office: 25 July, 2017 to 25 July, 2022 ',\n",
       " 'https://ramnathkovind.nic.in',\n",
       " 'Term of Office: 25 July, 2012 to 25 July, 2017 ',\n",
       " 'http://pranabmukherjee.nic.in',\n",
       " 'Term of Office: 25 July, 2007 to 25 July, 2012 ',\n",
       " 'http://pratibhapatil.nic.in',\n",
       " 'Term of Office: 25 July, 2002 to 25 July, 2007 ',\n",
       " 'http://abdulkalam.nic.in',\n",
       " 'Term of Office: 25 July, 1997 to 25 July, 2002 ',\n",
       " 'Term of Office: 25 July, 1992 to 25 July, 1997 ',\n",
       " 'Term of Office: 25 July, 1987 to 25 July, 1992 ',\n",
       " 'Term of Office: 25 July, 1982 to 25 July, 1987 ',\n",
       " 'Term of Office: 25 July, 1977 to 25 July, 1982 ',\n",
       " 'Term of Office: 24 August, 1974 to 11 February, 1977',\n",
       " 'Term of Office: 3 May, 1969 to 20 July, 1969 and 24 August, 1969 to 24 August, 1974',\n",
       " 'Term of Office: 13 May, 1967 to 3 May, 1969',\n",
       " 'Term of Office: 13 May, 1962 to 13 May, 1967',\n",
       " 'Term of Office: 26 January, 1950 to 13 May, 1962',\n",
       " 'Copyright © 2022 The Rashtrapati Bhavan.',\n",
       " 'Page last updated on: 22-July-2022 15:58 PM\\n',\n",
       " \"\\r\\n Website hosted by National Informatics Centre. Website Content provided by the President's Secretariat.\"]"
      ]
     },
     "execution_count": 62,
     "metadata": {},
     "output_type": "execute_result"
    }
   ],
   "source": [
    "term_of_office"
   ]
  },
  {
   "cell_type": "markdown",
   "id": "24d7add6",
   "metadata": {},
   "source": [
    "# 7) Write a python program to scrape mentioned news details from https://www.cnbc.com/world/?region=world :"
   ]
  },
  {
   "cell_type": "code",
   "execution_count": 34,
   "id": "a38fefa7",
   "metadata": {},
   "outputs": [
    {
     "data": {
      "text/plain": [
       "<Response [200]>"
      ]
     },
     "execution_count": 34,
     "metadata": {},
     "output_type": "execute_result"
    }
   ],
   "source": [
    "page=requests.get('https://www.cnbc.com/world/?region=world')\n",
    "page"
   ]
  },
  {
   "cell_type": "code",
   "execution_count": 35,
   "id": "cd98e62f",
   "metadata": {},
   "outputs": [],
   "source": [
    "soup=BeautifulSoup(page.content,'html.parser')"
   ]
  },
  {
   "cell_type": "code",
   "execution_count": 36,
   "id": "fb32641e",
   "metadata": {},
   "outputs": [],
   "source": [
    "headlines=[]\n",
    "for i in soup(class_=\"RiverHeadline-headline RiverHeadline-hasThumbnail\"):\n",
    "    headlines.append(i.text[0:40])\n",
    "times=[]\n",
    "for i in soup(class_=\"RiverByline-datePublished\"):\n",
    "    times.append(i.text)\n",
    "new_link=[]\n",
    "for i in soup.find_all('div',class_=\"RiverHeadline-headline RiverHeadline-hasThumbnail\"):\n",
    "    new_link.append(i.a['href'])"
   ]
  },
  {
   "cell_type": "code",
   "execution_count": 37,
   "id": "61831197",
   "metadata": {},
   "outputs": [
    {
     "name": "stdout",
     "output_type": "stream",
     "text": [
      "20 0 20\n"
     ]
    }
   ],
   "source": [
    "print(len(headlines),len(times),len(new_link))"
   ]
  },
  {
   "cell_type": "code",
   "execution_count": 65,
   "id": "7d21c2a4",
   "metadata": {},
   "outputs": [
    {
     "data": {
      "text/html": [
       "<div>\n",
       "<style scoped>\n",
       "    .dataframe tbody tr th:only-of-type {\n",
       "        vertical-align: middle;\n",
       "    }\n",
       "\n",
       "    .dataframe tbody tr th {\n",
       "        vertical-align: top;\n",
       "    }\n",
       "\n",
       "    .dataframe thead th {\n",
       "        text-align: right;\n",
       "    }\n",
       "</style>\n",
       "<table border=\"1\" class=\"dataframe\">\n",
       "  <thead>\n",
       "    <tr style=\"text-align: right;\">\n",
       "      <th></th>\n",
       "      <th>Headlines</th>\n",
       "      <th>New_Link</th>\n",
       "    </tr>\n",
       "  </thead>\n",
       "  <tbody>\n",
       "    <tr>\n",
       "      <th>0</th>\n",
       "      <td>Twitter's laid-off workers cannot pursue</td>\n",
       "      <td>https://www.cnbc.com/2023/01/15/twitters-laid-...</td>\n",
       "    </tr>\n",
       "    <tr>\n",
       "      <th>1</th>\n",
       "      <td>Wharton's Jeremy Siegel says the U.S. ha</td>\n",
       "      <td>/pro/</td>\n",
       "    </tr>\n",
       "    <tr>\n",
       "      <th>2</th>\n",
       "      <td>Bitcoin climbs above $20,000 first time</td>\n",
       "      <td>https://www.cnbc.com/2023/01/14/bitcoin-climbs...</td>\n",
       "    </tr>\n",
       "    <tr>\n",
       "      <th>3</th>\n",
       "      <td>Op-ed: Oil CEO Sultan Al Jaber is the id</td>\n",
       "      <td>https://www.cnbc.com/2023/01/14/climate-change...</td>\n",
       "    </tr>\n",
       "    <tr>\n",
       "      <th>4</th>\n",
       "      <td>At least 68 killed in Nepal's worst air</td>\n",
       "      <td>https://www.cnbc.com/2023/01/15/at-least-16-ki...</td>\n",
       "    </tr>\n",
       "    <tr>\n",
       "      <th>5</th>\n",
       "      <td>JPMorgan upgrades this under-the-radar L</td>\n",
       "      <td>/pro/</td>\n",
       "    </tr>\n",
       "    <tr>\n",
       "      <th>6</th>\n",
       "      <td>Iranian oil exports end 2022 at a high,</td>\n",
       "      <td>https://www.cnbc.com/2023/01/15/iranian-oil-ex...</td>\n",
       "    </tr>\n",
       "    <tr>\n",
       "      <th>7</th>\n",
       "      <td>'Flash' star Ezra Miller avoids jail wit</td>\n",
       "      <td>https://www.cnbc.com/2023/01/13/flash-star-ezr...</td>\n",
       "    </tr>\n",
       "    <tr>\n",
       "      <th>8</th>\n",
       "      <td>Sweden finds huge deposit of rare earth</td>\n",
       "      <td>https://www.cnbc.com/2023/01/13/sweden-mining-...</td>\n",
       "    </tr>\n",
       "    <tr>\n",
       "      <th>9</th>\n",
       "      <td>Dow closes 100 points higher, S&amp;P 500 an</td>\n",
       "      <td>https://www.cnbc.com/2023/01/12/stock-market-f...</td>\n",
       "    </tr>\n",
       "    <tr>\n",
       "      <th>10</th>\n",
       "      <td>Just one G-7 leader will join Davos elit</td>\n",
       "      <td>https://www.cnbc.com/2023/01/13/germanys-schol...</td>\n",
       "    </tr>\n",
       "    <tr>\n",
       "      <th>11</th>\n",
       "      <td>Dividend stocks are beating the market —</td>\n",
       "      <td>/pro/</td>\n",
       "    </tr>\n",
       "    <tr>\n",
       "      <th>12</th>\n",
       "      <td>Russian missiles strike vital infrastruc</td>\n",
       "      <td>https://www.cnbc.com/2023/01/14/russian-missil...</td>\n",
       "    </tr>\n",
       "    <tr>\n",
       "      <th>13</th>\n",
       "      <td>U.S. will hit its debt limit Thursday, s</td>\n",
       "      <td>https://www.cnbc.com/2023/01/13/us-will-hit-it...</td>\n",
       "    </tr>\n",
       "    <tr>\n",
       "      <th>14</th>\n",
       "      <td>Iran executes British-Iranian national d</td>\n",
       "      <td>https://www.cnbc.com/2023/01/14/iran-executes-...</td>\n",
       "    </tr>\n",
       "    <tr>\n",
       "      <th>15</th>\n",
       "      <td>Brazil top court to investigate Bolsonar</td>\n",
       "      <td>https://www.cnbc.com/2023/01/14/brazil-top-cou...</td>\n",
       "    </tr>\n",
       "    <tr>\n",
       "      <th>16</th>\n",
       "      <td>Qatar, UAE energy ministers say gas will</td>\n",
       "      <td>https://www.cnbc.com/2023/01/14/qatar-uae-ener...</td>\n",
       "    </tr>\n",
       "    <tr>\n",
       "      <th>17</th>\n",
       "      <td>Biden and Kishida discuss Japan ‘steppin</td>\n",
       "      <td>https://www.cnbc.com/2023/01/13/biden-and-kish...</td>\n",
       "    </tr>\n",
       "    <tr>\n",
       "      <th>18</th>\n",
       "      <td>CDC says it’s ‘very unlikely’ Pfizer boo</td>\n",
       "      <td>https://www.cnbc.com/2023/01/13/pfizer-covid-b...</td>\n",
       "    </tr>\n",
       "    <tr>\n",
       "      <th>19</th>\n",
       "      <td>A battle between Disney and activist Pel</td>\n",
       "      <td>https://www.cnbc.com/2023/01/14/a-battle-betwe...</td>\n",
       "    </tr>\n",
       "  </tbody>\n",
       "</table>\n",
       "</div>"
      ],
      "text/plain": [
       "                                   Headlines  \\\n",
       "0   Twitter's laid-off workers cannot pursue   \n",
       "1   Wharton's Jeremy Siegel says the U.S. ha   \n",
       "2   Bitcoin climbs above $20,000 first time    \n",
       "3   Op-ed: Oil CEO Sultan Al Jaber is the id   \n",
       "4   At least 68 killed in Nepal's worst air    \n",
       "5   JPMorgan upgrades this under-the-radar L   \n",
       "6   Iranian oil exports end 2022 at a high,    \n",
       "7   'Flash' star Ezra Miller avoids jail wit   \n",
       "8   Sweden finds huge deposit of rare earth    \n",
       "9   Dow closes 100 points higher, S&P 500 an   \n",
       "10  Just one G-7 leader will join Davos elit   \n",
       "11  Dividend stocks are beating the market —   \n",
       "12  Russian missiles strike vital infrastruc   \n",
       "13  U.S. will hit its debt limit Thursday, s   \n",
       "14  Iran executes British-Iranian national d   \n",
       "15  Brazil top court to investigate Bolsonar   \n",
       "16  Qatar, UAE energy ministers say gas will   \n",
       "17  Biden and Kishida discuss Japan ‘steppin   \n",
       "18  CDC says it’s ‘very unlikely’ Pfizer boo   \n",
       "19  A battle between Disney and activist Pel   \n",
       "\n",
       "                                             New_Link  \n",
       "0   https://www.cnbc.com/2023/01/15/twitters-laid-...  \n",
       "1                                               /pro/  \n",
       "2   https://www.cnbc.com/2023/01/14/bitcoin-climbs...  \n",
       "3   https://www.cnbc.com/2023/01/14/climate-change...  \n",
       "4   https://www.cnbc.com/2023/01/15/at-least-16-ki...  \n",
       "5                                               /pro/  \n",
       "6   https://www.cnbc.com/2023/01/15/iranian-oil-ex...  \n",
       "7   https://www.cnbc.com/2023/01/13/flash-star-ezr...  \n",
       "8   https://www.cnbc.com/2023/01/13/sweden-mining-...  \n",
       "9   https://www.cnbc.com/2023/01/12/stock-market-f...  \n",
       "10  https://www.cnbc.com/2023/01/13/germanys-schol...  \n",
       "11                                              /pro/  \n",
       "12  https://www.cnbc.com/2023/01/14/russian-missil...  \n",
       "13  https://www.cnbc.com/2023/01/13/us-will-hit-it...  \n",
       "14  https://www.cnbc.com/2023/01/14/iran-executes-...  \n",
       "15  https://www.cnbc.com/2023/01/14/brazil-top-cou...  \n",
       "16  https://www.cnbc.com/2023/01/14/qatar-uae-ener...  \n",
       "17  https://www.cnbc.com/2023/01/13/biden-and-kish...  \n",
       "18  https://www.cnbc.com/2023/01/13/pfizer-covid-b...  \n",
       "19  https://www.cnbc.com/2023/01/14/a-battle-betwe...  "
      ]
     },
     "execution_count": 65,
     "metadata": {},
     "output_type": "execute_result"
    }
   ],
   "source": [
    "df3=pd.DataFrame({\"Headlines\":headlines,'New_Link':new_link})\n",
    "df3\n"
   ]
  },
  {
   "cell_type": "markdown",
   "id": "733370dc",
   "metadata": {},
   "source": [
    "# 8) Write a python program to scrape the details of most downloaded articles from AI in last 90 days. https://www.journals.elsevier.com/artificial-intelligence/most-downloaded-articlesScrape below mentioned details :\n",
    "### i) Paper Title\n",
    "### ii) Authors\n",
    "### iii) Published Date\n",
    "### iv) Paper URL"
   ]
  },
  {
   "cell_type": "code",
   "execution_count": null,
   "id": "cb25168b",
   "metadata": {},
   "outputs": [],
   "source": [
    "page=requests.get('https://www.journals.elsevier.com/artificial-intelligence/most-downloaded-articles')"
   ]
  },
  {
   "cell_type": "code",
   "execution_count": null,
   "id": "b962a936",
   "metadata": {},
   "outputs": [],
   "source": [
    "soup=BeautifulSoup(page.content,'html.parser')"
   ]
  },
  {
   "cell_type": "code",
   "execution_count": null,
   "id": "2280b165",
   "metadata": {},
   "outputs": [],
   "source": [
    "Paper_Title=[]\n",
    "publish_date=[]\n",
    "author =[]\n",
    "paper_url=[]"
   ]
  },
  {
   "cell_type": "code",
   "execution_count": null,
   "id": "0a5cd189",
   "metadata": {},
   "outputs": [],
   "source": [
    "# Paper_Title=[]\n",
    "for i in soup.find_all('h2',class_=\"sc-1qrq3sd-1 gRGSUS sc-1nmom32-0 sc-1nmom32-1 btcbYu goSKRg\"):\n",
    "    Paper_Title.append(i.text)\n",
    "# author =[]\n",
    "for ib in soup.find_all('span',class_=\"sc-1w3fpd7-0 dnCnAO\"):\n",
    "    author.append(ib.text)\n",
    "# publish_date=[]\n",
    "for i in soup.find_all('span',class_=\"sc-1thf9ly-2 dvggWt\"):\n",
    "    publish_date.append(i.text)\n",
    "# paper_url=[]\n",
    "for i in soup.find_all(class_=\"sc-5smygv-0 fIXTHm\"):\n",
    "    paper_url.append(i['href'])"
   ]
  },
  {
   "cell_type": "code",
   "execution_count": null,
   "id": "a31698fb",
   "metadata": {},
   "outputs": [],
   "source": [
    "import pandas as pd\n",
    "journal_df = pd.DataFrame({'Paper_Title':Paper_Title,'author':author,'publish_date':publish_date,'paper_url':paper_url})\n",
    "journal_df.head(10)"
   ]
  },
  {
   "cell_type": "markdown",
   "id": "dec09885",
   "metadata": {},
   "source": [
    "# 9) Write a python program to scrape mentioned details from dineout.co.in :\n",
    "### i) Restaurant name\n",
    "### ii) Cuisine\n",
    "### iii) Location\n",
    "### iv) Ratings\n",
    "### v) Image URL"
   ]
  },
  {
   "cell_type": "code",
   "execution_count": 39,
   "id": "2c21840b",
   "metadata": {},
   "outputs": [
    {
     "data": {
      "text/plain": [
       "<Response [200]>"
      ]
     },
     "execution_count": 39,
     "metadata": {},
     "output_type": "execute_result"
    }
   ],
   "source": [
    "page = requests.get('https://www.dineout.co.in/delhi-restaurants/buffet-special')\n",
    "page"
   ]
  },
  {
   "cell_type": "code",
   "execution_count": 40,
   "id": "c97e4c6e",
   "metadata": {},
   "outputs": [],
   "source": [
    "soup=BeautifulSoup(page.content)"
   ]
  },
  {
   "cell_type": "code",
   "execution_count": 41,
   "id": "07a44c77",
   "metadata": {},
   "outputs": [],
   "source": [
    "Restaurant_Name=[]\n",
    "Price=[]\n",
    "Location=[]\n",
    "Rating=[]\n",
    "Image_Url = []"
   ]
  },
  {
   "cell_type": "code",
   "execution_count": 42,
   "id": "11ab7c0b",
   "metadata": {},
   "outputs": [],
   "source": [
    "for i in soup.find_all('a',class_=\"restnt-name ellipsis\"):\n",
    "    Restaurant_Name.append(i.text)\n",
    "for i in soup.find_all('span',class_=\"double-line-ellipsis\"):\n",
    "    Price.append(i.text)\n",
    "for i in soup.find_all('div',class_=\"restnt-loc ellipsis\"):\n",
    "    Location.append(i.text)\n",
    "for i in soup.find_all('div',class_=\"restnt-rating rating-4\"):\n",
    "    Rating.append(i.text)\n",
    "\n",
    "for i in soup.find_all('img',class_=\"no-img\"):\n",
    "    Image_Url.append(i.get('data-src'))\n",
    "# image"
   ]
  },
  {
   "cell_type": "code",
   "execution_count": 43,
   "id": "d51c4d36",
   "metadata": {},
   "outputs": [
    {
     "name": "stdout",
     "output_type": "stream",
     "text": [
      "9 9 9 9 9\n"
     ]
    }
   ],
   "source": [
    "# print(len(Restaurant_Name),len(Price),len(Rating),len(Location),len(Image_Url))"
   ]
  },
  {
   "cell_type": "code",
   "execution_count": 44,
   "id": "23b2b15d",
   "metadata": {},
   "outputs": [
    {
     "data": {
      "text/html": [
       "<div>\n",
       "<style scoped>\n",
       "    .dataframe tbody tr th:only-of-type {\n",
       "        vertical-align: middle;\n",
       "    }\n",
       "\n",
       "    .dataframe tbody tr th {\n",
       "        vertical-align: top;\n",
       "    }\n",
       "\n",
       "    .dataframe thead th {\n",
       "        text-align: right;\n",
       "    }\n",
       "</style>\n",
       "<table border=\"1\" class=\"dataframe\">\n",
       "  <thead>\n",
       "    <tr style=\"text-align: right;\">\n",
       "      <th></th>\n",
       "      <th>Restaurant_Name</th>\n",
       "      <th>Price</th>\n",
       "      <th>Rating</th>\n",
       "      <th>Location</th>\n",
       "      <th>Image_Url</th>\n",
       "    </tr>\n",
       "  </thead>\n",
       "  <tbody>\n",
       "    <tr>\n",
       "      <th>0</th>\n",
       "      <td>Castle Barbeque</td>\n",
       "      <td>₹ 2,000 for 2 (approx) | Chinese, North Indian</td>\n",
       "      <td>4.1</td>\n",
       "      <td>Connaught Place, Central Delhi</td>\n",
       "      <td>https://im1.dineout.co.in/images/uploads/resta...</td>\n",
       "    </tr>\n",
       "    <tr>\n",
       "      <th>1</th>\n",
       "      <td>Jungle Jamboree</td>\n",
       "      <td>₹ 1,680 for 2 (approx) | North Indian, Asian, ...</td>\n",
       "      <td>3.9</td>\n",
       "      <td>3CS Mall,Lajpat Nagar - 3, South Delhi</td>\n",
       "      <td>https://im1.dineout.co.in/images/uploads/resta...</td>\n",
       "    </tr>\n",
       "    <tr>\n",
       "      <th>2</th>\n",
       "      <td>Cafe Knosh</td>\n",
       "      <td>₹ 3,000 for 2 (approx) | Italian, Continental</td>\n",
       "      <td>4.3</td>\n",
       "      <td>The Leela Ambience Convention Hotel,Shahdara, ...</td>\n",
       "      <td>https://im1.dineout.co.in/images/uploads/resta...</td>\n",
       "    </tr>\n",
       "    <tr>\n",
       "      <th>3</th>\n",
       "      <td>Castle Barbeque</td>\n",
       "      <td>₹ 2,000 for 2 (approx) | Chinese, North Indian</td>\n",
       "      <td>3.9</td>\n",
       "      <td>Pacific Mall,Tagore Garden, West Delhi</td>\n",
       "      <td>https://im1.dineout.co.in/images/uploads/resta...</td>\n",
       "    </tr>\n",
       "    <tr>\n",
       "      <th>4</th>\n",
       "      <td>The Barbeque Company</td>\n",
       "      <td>₹ 1,700 for 2 (approx) | North Indian, Chinese</td>\n",
       "      <td>4</td>\n",
       "      <td>Gardens Galleria,Sector 38A, Noida</td>\n",
       "      <td>https://im1.dineout.co.in/images/uploads/resta...</td>\n",
       "    </tr>\n",
       "    <tr>\n",
       "      <th>5</th>\n",
       "      <td>India Grill</td>\n",
       "      <td>₹ 2,400 for 2 (approx) | North Indian, Italian</td>\n",
       "      <td>3.9</td>\n",
       "      <td>Hilton Garden Inn,Saket, South Delhi</td>\n",
       "      <td>https://im1.dineout.co.in/images/uploads/resta...</td>\n",
       "    </tr>\n",
       "    <tr>\n",
       "      <th>6</th>\n",
       "      <td>Delhi Barbeque</td>\n",
       "      <td>₹ 1,800 for 2 (approx) | North Indian</td>\n",
       "      <td>3.6</td>\n",
       "      <td>Taurus Sarovar Portico,Mahipalpur, South Delhi</td>\n",
       "      <td>https://im1.dineout.co.in/images/uploads/resta...</td>\n",
       "    </tr>\n",
       "    <tr>\n",
       "      <th>7</th>\n",
       "      <td>The Monarch - Bar Be Que Village</td>\n",
       "      <td>₹ 1,900 for 2 (approx) | North Indian</td>\n",
       "      <td>3.8</td>\n",
       "      <td>Indirapuram Habitat Centre,Indirapuram, Ghaziabad</td>\n",
       "      <td>https://im1.dineout.co.in/images/uploads/resta...</td>\n",
       "    </tr>\n",
       "    <tr>\n",
       "      <th>8</th>\n",
       "      <td>Indian Grill Room</td>\n",
       "      <td>₹ 2,200 for 2 (approx) | North Indian, Mughlai</td>\n",
       "      <td>4.3</td>\n",
       "      <td>Suncity Business Tower,Golf Course Road, Gurgaon</td>\n",
       "      <td>https://im1.dineout.co.in/images/uploads/resta...</td>\n",
       "    </tr>\n",
       "  </tbody>\n",
       "</table>\n",
       "</div>"
      ],
      "text/plain": [
       "                    Restaurant_Name  \\\n",
       "0                   Castle Barbeque   \n",
       "1                   Jungle Jamboree   \n",
       "2                        Cafe Knosh   \n",
       "3                   Castle Barbeque   \n",
       "4              The Barbeque Company   \n",
       "5                       India Grill   \n",
       "6                    Delhi Barbeque   \n",
       "7  The Monarch - Bar Be Que Village   \n",
       "8                 Indian Grill Room   \n",
       "\n",
       "                                               Price Rating  \\\n",
       "0     ₹ 2,000 for 2 (approx) | Chinese, North Indian    4.1   \n",
       "1  ₹ 1,680 for 2 (approx) | North Indian, Asian, ...    3.9   \n",
       "2      ₹ 3,000 for 2 (approx) | Italian, Continental    4.3   \n",
       "3     ₹ 2,000 for 2 (approx) | Chinese, North Indian    3.9   \n",
       "4     ₹ 1,700 for 2 (approx) | North Indian, Chinese      4   \n",
       "5     ₹ 2,400 for 2 (approx) | North Indian, Italian    3.9   \n",
       "6              ₹ 1,800 for 2 (approx) | North Indian    3.6   \n",
       "7              ₹ 1,900 for 2 (approx) | North Indian    3.8   \n",
       "8     ₹ 2,200 for 2 (approx) | North Indian, Mughlai    4.3   \n",
       "\n",
       "                                            Location  \\\n",
       "0                     Connaught Place, Central Delhi   \n",
       "1             3CS Mall,Lajpat Nagar - 3, South Delhi   \n",
       "2  The Leela Ambience Convention Hotel,Shahdara, ...   \n",
       "3             Pacific Mall,Tagore Garden, West Delhi   \n",
       "4                 Gardens Galleria,Sector 38A, Noida   \n",
       "5               Hilton Garden Inn,Saket, South Delhi   \n",
       "6     Taurus Sarovar Portico,Mahipalpur, South Delhi   \n",
       "7  Indirapuram Habitat Centre,Indirapuram, Ghaziabad   \n",
       "8   Suncity Business Tower,Golf Course Road, Gurgaon   \n",
       "\n",
       "                                           Image_Url  \n",
       "0  https://im1.dineout.co.in/images/uploads/resta...  \n",
       "1  https://im1.dineout.co.in/images/uploads/resta...  \n",
       "2  https://im1.dineout.co.in/images/uploads/resta...  \n",
       "3  https://im1.dineout.co.in/images/uploads/resta...  \n",
       "4  https://im1.dineout.co.in/images/uploads/resta...  \n",
       "5  https://im1.dineout.co.in/images/uploads/resta...  \n",
       "6  https://im1.dineout.co.in/images/uploads/resta...  \n",
       "7  https://im1.dineout.co.in/images/uploads/resta...  \n",
       "8  https://im1.dineout.co.in/images/uploads/resta...  "
      ]
     },
     "execution_count": 44,
     "metadata": {},
     "output_type": "execute_result"
    }
   ],
   "source": [
    "dinout_df=pd.DataFrame({'Restaurant_Name':Restaurant_Name,'Price':Price,'Rating':Rating,'Location':Location,'Image_Url':Image_Url})\n",
    "dinout_df"
   ]
  },
  {
   "cell_type": "markdown",
   "id": "5cf7f1b2",
   "metadata": {},
   "source": [
    "# 6) Write a python program to scrape cricket rankings from icc-cricket.com. You have to scrape:\n",
    "### a) Top 10 ODI teams in women’s cricket along with the records for matches, points and rating.\n",
    "### b) Top 10 women’s ODI Batting players along with the records of their team and rating.\n",
    "### c) Top 10 women’s ODI all-rounder along with the records of their team and rating.\n"
   ]
  },
  {
   "cell_type": "code",
   "execution_count": null,
   "id": "ed8a512b",
   "metadata": {},
   "outputs": [],
   "source": [
    "url=(\"https://www.icc-cricket.com/rankings/womens/team-rankings/odi\")\n",
    "data = requests.get(url).text"
   ]
  },
  {
   "cell_type": "code",
   "execution_count": null,
   "id": "2c2b68d1",
   "metadata": {},
   "outputs": [],
   "source": [
    "soup = BeautifulSoup(data, 'html.parser')"
   ]
  },
  {
   "cell_type": "code",
   "execution_count": null,
   "id": "2c329a5b",
   "metadata": {},
   "outputs": [],
   "source": [
    "# Verifying tables and their classes\n",
    "for table in soup.find_all('table'):\n",
    "    print(table.get('class'))"
   ]
  },
  {
   "cell_type": "code",
   "execution_count": null,
   "id": "435a3442",
   "metadata": {},
   "outputs": [],
   "source": [
    "# Creating list with all tables\n",
    "tables = soup.find_all('table')\n",
    "#  Looking for the table with the classes 'wikitable' and 'sortable'\n",
    "table = soup.find('table', class_='table')\n",
    "table"
   ]
  },
  {
   "cell_type": "code",
   "execution_count": null,
   "id": "03cb9998",
   "metadata": {},
   "outputs": [],
   "source": [
    "df = pd.DataFrame(columns=['Match','Points','Rating'])"
   ]
  },
  {
   "cell_type": "code",
   "execution_count": null,
   "id": "9e06f004",
   "metadata": {},
   "outputs": [],
   "source": []
  },
  {
   "cell_type": "code",
   "execution_count": null,
   "id": "bee93f53",
   "metadata": {},
   "outputs": [],
   "source": [
    "df."
   ]
  },
  {
   "cell_type": "code",
   "execution_count": null,
   "id": "a89f3060",
   "metadata": {},
   "outputs": [],
   "source": []
  }
 ],
 "metadata": {
  "kernelspec": {
   "display_name": "Python 3 (ipykernel)",
   "language": "python",
   "name": "python3"
  },
  "language_info": {
   "codemirror_mode": {
    "name": "ipython",
    "version": 3
   },
   "file_extension": ".py",
   "mimetype": "text/x-python",
   "name": "python",
   "nbconvert_exporter": "python",
   "pygments_lexer": "ipython3",
   "version": "3.9.12"
  }
 },
 "nbformat": 4,
 "nbformat_minor": 5
}
