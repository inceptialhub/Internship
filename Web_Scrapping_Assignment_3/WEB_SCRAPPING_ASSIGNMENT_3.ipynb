{
 "cells": [
  {
   "cell_type": "markdown",
   "id": "c9763771",
   "metadata": {},
   "source": [
    "# Quetions 1 "
   ]
  },
  {
   "cell_type": "code",
   "execution_count": 1,
   "id": "8c44057f",
   "metadata": {},
   "outputs": [],
   "source": [
    "#import all the required libraries\n",
    "import pandas as pd\n",
    "import selenium\n",
    "from selenium import webdriver\n",
    "from selenium.common.exceptions import StaleElementReferenceException, NoSuchElementException\n",
    "import time\n",
    "import re\n",
    "from selenium.webdriver.common.by import By\n",
    "from selenium.webdriver.common.keys import Keys\n",
    "import requests"
   ]
  },
  {
   "cell_type": "code",
   "execution_count": 4,
   "id": "dee70ec8",
   "metadata": {},
   "outputs": [
    {
     "name": "stderr",
     "output_type": "stream",
     "text": [
      "/var/folders/5_/zt1gkvk17s534j4yb6f487_40000gn/T/ipykernel_53562/406449843.py:2: DeprecationWarning: executable_path has been deprecated, please pass in a Service object\n",
      "  driver = webdriver.Chrome('/Users/aditya/Downloads/chromedriver')\n"
     ]
    },
    {
     "name": "stdout",
     "output_type": "stream",
     "text": [
      "Enter Product name: guitar\n"
     ]
    }
   ],
   "source": [
    "##Q1 Program to Search particular product on Amazon, input is taken from user instead of hardcoded values\n",
    "driver = webdriver.Chrome('/Users/aditya/Downloads/chromedriver')\n",
    "# driver.maximize_window()\n",
    "driver.get(\"https://www.amazon.in/\")\n",
    "product_text=driver.find_element(By.ID,\"twotabsearchtextbox\")\n",
    "product= input(\"Enter Product name: \")\n",
    "product_text.send_keys(product)\n",
    "submit=driver.find_element(By.XPATH,\"//input[@type='submit']\")\n",
    "submit.click()"
   ]
  },
  {
   "cell_type": "markdown",
   "id": "bf86eac9",
   "metadata": {},
   "source": [
    "## Q2 Scrapping Data"
   ]
  },
  {
   "cell_type": "code",
   "execution_count": 5,
   "id": "830c6af3",
   "metadata": {},
   "outputs": [
    {
     "data": {
      "text/plain": [
       "74"
      ]
     },
     "execution_count": 5,
     "metadata": {},
     "output_type": "execute_result"
    }
   ],
   "source": [
    "product_url = []\n",
    "url = driver.find_elements(By.XPATH,\"//a[@class='a-link-normal s-underline-text s-underline-link-text s-link-style a-text-normal']\")\n",
    "\n",
    "    \n",
    "for i in url:\n",
    "    product_url.append(i.get_attribute('href'))\n",
    "len(product_url)"
   ]
  },
  {
   "cell_type": "code",
   "execution_count": 6,
   "id": "14d8f4ae",
   "metadata": {},
   "outputs": [
    {
     "data": {
      "text/html": [
       "<div>\n",
       "<style scoped>\n",
       "    .dataframe tbody tr th:only-of-type {\n",
       "        vertical-align: middle;\n",
       "    }\n",
       "\n",
       "    .dataframe tbody tr th {\n",
       "        vertical-align: top;\n",
       "    }\n",
       "\n",
       "    .dataframe thead th {\n",
       "        text-align: right;\n",
       "    }\n",
       "</style>\n",
       "<table border=\"1\" class=\"dataframe\">\n",
       "  <thead>\n",
       "    <tr style=\"text-align: right;\">\n",
       "      <th></th>\n",
       "      <th>Product Name</th>\n",
       "      <th>Brand</th>\n",
       "      <th>Price</th>\n",
       "      <th>Availability</th>\n",
       "      <th>Delivery</th>\n",
       "      <th>Replacement/Exchange</th>\n",
       "      <th>URL</th>\n",
       "    </tr>\n",
       "  </thead>\n",
       "  <tbody>\n",
       "    <tr>\n",
       "      <th>0</th>\n",
       "      <td>Kadence Slowhand Premium Jumbo Semi Acoustic G...</td>\n",
       "      <td>-</td>\n",
       "      <td>-</td>\n",
       "      <td>-</td>\n",
       "      <td>Not Present</td>\n",
       "      <td>-</td>\n",
       "      <td>https://www.amazon.in/sspa/click?ie=UTF8&amp;spc=M...</td>\n",
       "    </tr>\n",
       "    <tr>\n",
       "      <th>1</th>\n",
       "      <td>Kadence Frontier guitar with Online Guitar lea...</td>\n",
       "      <td>-</td>\n",
       "      <td>-</td>\n",
       "      <td>-</td>\n",
       "      <td>Not Present</td>\n",
       "      <td>-</td>\n",
       "      <td>https://www.amazon.in/sspa/click?ie=UTF8&amp;spc=M...</td>\n",
       "    </tr>\n",
       "    <tr>\n",
       "      <th>2</th>\n",
       "      <td>Vault DA20 Dreadnought Acoustic Guitar With Gi...</td>\n",
       "      <td>-</td>\n",
       "      <td>-</td>\n",
       "      <td>-</td>\n",
       "      <td>Not Present</td>\n",
       "      <td>-</td>\n",
       "      <td>https://www.amazon.in/sspa/click?ie=UTF8&amp;spc=M...</td>\n",
       "    </tr>\n",
       "    <tr>\n",
       "      <th>3</th>\n",
       "      <td>Hontral S4 String Decor Guitar Children's Musi...</td>\n",
       "      <td>-</td>\n",
       "      <td>-</td>\n",
       "      <td>-</td>\n",
       "      <td>Not Present</td>\n",
       "      <td>-</td>\n",
       "      <td>https://www.amazon.in/sspa/click?ie=UTF8&amp;spc=M...</td>\n",
       "    </tr>\n",
       "    <tr>\n",
       "      <th>4</th>\n",
       "      <td>Juârez Acoustic Guitar, 38 Inch Cutaway, 038C ...</td>\n",
       "      <td>-</td>\n",
       "      <td>-</td>\n",
       "      <td>-</td>\n",
       "      <td>Not Present</td>\n",
       "      <td>-</td>\n",
       "      <td>https://www.amazon.in/Juarez-Acoustic-Cutaway-...</td>\n",
       "    </tr>\n",
       "    <tr>\n",
       "      <th>...</th>\n",
       "      <td>...</td>\n",
       "      <td>...</td>\n",
       "      <td>...</td>\n",
       "      <td>...</td>\n",
       "      <td>...</td>\n",
       "      <td>...</td>\n",
       "      <td>...</td>\n",
       "    </tr>\n",
       "    <tr>\n",
       "      <th>69</th>\n",
       "      <td>Revel 38 Inches Cutaway Design Acoustic Guitar...</td>\n",
       "      <td>-</td>\n",
       "      <td>-</td>\n",
       "      <td>-</td>\n",
       "      <td>Not Present</td>\n",
       "      <td>-</td>\n",
       "      <td>https://www.amazon.in/Acoustic-Plectrums-Begin...</td>\n",
       "    </tr>\n",
       "    <tr>\n",
       "      <th>70</th>\n",
       "      <td>Blueberry R-40, 40\" TrussRod Sapele Wood Acous...</td>\n",
       "      <td>-</td>\n",
       "      <td>-</td>\n",
       "      <td>-</td>\n",
       "      <td>Not Present</td>\n",
       "      <td>-</td>\n",
       "      <td>https://www.amazon.in/sspa/click?ie=UTF8&amp;spc=M...</td>\n",
       "    </tr>\n",
       "    <tr>\n",
       "      <th>71</th>\n",
       "      <td>Blueberry 38C, 38\" Acoustic Guitar Kit with Ba...</td>\n",
       "      <td>-</td>\n",
       "      <td>-</td>\n",
       "      <td>-</td>\n",
       "      <td>Not Present</td>\n",
       "      <td>-</td>\n",
       "      <td>https://www.amazon.in/sspa/click?ie=UTF8&amp;spc=M...</td>\n",
       "    </tr>\n",
       "    <tr>\n",
       "      <th>72</th>\n",
       "      <td>THE MUSIC WORLD - ACOUSTIC GUITAR F310</td>\n",
       "      <td>-</td>\n",
       "      <td>-</td>\n",
       "      <td>-</td>\n",
       "      <td>Not Present</td>\n",
       "      <td>-</td>\n",
       "      <td>https://www.amazon.in/sspa/click?ie=UTF8&amp;spc=M...</td>\n",
       "    </tr>\n",
       "    <tr>\n",
       "      <th>73</th>\n",
       "      <td>Festra R-40-Natural Acoustic Guitar Kit with B...</td>\n",
       "      <td>-</td>\n",
       "      <td>-</td>\n",
       "      <td>-</td>\n",
       "      <td>Not Present</td>\n",
       "      <td>-</td>\n",
       "      <td>https://www.amazon.in/sspa/click?ie=UTF8&amp;spc=M...</td>\n",
       "    </tr>\n",
       "  </tbody>\n",
       "</table>\n",
       "<p>74 rows × 7 columns</p>\n",
       "</div>"
      ],
      "text/plain": [
       "                                         Product Name Brand Price  \\\n",
       "0   Kadence Slowhand Premium Jumbo Semi Acoustic G...     -     -   \n",
       "1   Kadence Frontier guitar with Online Guitar lea...     -     -   \n",
       "2   Vault DA20 Dreadnought Acoustic Guitar With Gi...     -     -   \n",
       "3   Hontral S4 String Decor Guitar Children's Musi...     -     -   \n",
       "4   Juârez Acoustic Guitar, 38 Inch Cutaway, 038C ...     -     -   \n",
       "..                                                ...   ...   ...   \n",
       "69  Revel 38 Inches Cutaway Design Acoustic Guitar...     -     -   \n",
       "70  Blueberry R-40, 40\" TrussRod Sapele Wood Acous...     -     -   \n",
       "71  Blueberry 38C, 38\" Acoustic Guitar Kit with Ba...     -     -   \n",
       "72             THE MUSIC WORLD - ACOUSTIC GUITAR F310     -     -   \n",
       "73  Festra R-40-Natural Acoustic Guitar Kit with B...     -     -   \n",
       "\n",
       "   Availability     Delivery Replacement/Exchange  \\\n",
       "0             -  Not Present                    -   \n",
       "1             -  Not Present                    -   \n",
       "2             -  Not Present                    -   \n",
       "3             -  Not Present                    -   \n",
       "4             -  Not Present                    -   \n",
       "..          ...          ...                  ...   \n",
       "69            -  Not Present                    -   \n",
       "70            -  Not Present                    -   \n",
       "71            -  Not Present                    -   \n",
       "72            -  Not Present                    -   \n",
       "73            -  Not Present                    -   \n",
       "\n",
       "                                                  URL  \n",
       "0   https://www.amazon.in/sspa/click?ie=UTF8&spc=M...  \n",
       "1   https://www.amazon.in/sspa/click?ie=UTF8&spc=M...  \n",
       "2   https://www.amazon.in/sspa/click?ie=UTF8&spc=M...  \n",
       "3   https://www.amazon.in/sspa/click?ie=UTF8&spc=M...  \n",
       "4   https://www.amazon.in/Juarez-Acoustic-Cutaway-...  \n",
       "..                                                ...  \n",
       "69  https://www.amazon.in/Acoustic-Plectrums-Begin...  \n",
       "70  https://www.amazon.in/sspa/click?ie=UTF8&spc=M...  \n",
       "71  https://www.amazon.in/sspa/click?ie=UTF8&spc=M...  \n",
       "72  https://www.amazon.in/sspa/click?ie=UTF8&spc=M...  \n",
       "73  https://www.amazon.in/sspa/click?ie=UTF8&spc=M...  \n",
       "\n",
       "[74 rows x 7 columns]"
      ]
     },
     "execution_count": 6,
     "metadata": {},
     "output_type": "execute_result"
    }
   ],
   "source": [
    "price= []\n",
    "rep = [] \n",
    "brand = []\n",
    "delivery = []\n",
    "availablity = []\n",
    "product_name = []\n",
    "#by using try and except we can scrap all the details by clicking on product url\n",
    "for i in product_url:\n",
    "    driver.get(i)\n",
    "    time.sleep(5)\n",
    "    try:\n",
    "        prices = driver.find_element(By.XPATH,\"/html/body/div[2]/div[2]/div[5]/div[4]/div[1]/div[3]/div/div/div/div/form/div/div/div/div/div[2]/div[1]/div/span/span[2]\")\n",
    "        price.append(prices.text.replace('\\n00',\"\"))\n",
    "    except NoSuchElementException:\n",
    "        price.append('-')\n",
    "\n",
    "    try:\n",
    "        replacement = driver.find_element(By.XPATH,\"/html/body/div[2]/div[2]/div[5]/div[4]/div[4]/div[22]/div[2]/div/div/div/div/span/div[2]/a\")\n",
    "        rep.append(replacement.text)\n",
    "    except NoSuchElementException:\n",
    "        rep.append('-')\n",
    "\n",
    "    try:\n",
    "        brands = driver.find_element(By.XPATH,\"/html/body/div[2]/div[2]/div[5]/div[4]/div[4]/div[43]/div/table/tbody/tr[3]/td[2]\")\n",
    "        brand.append(brands.text)\n",
    "    except NoSuchElementException:\n",
    "        brand.append('-')\n",
    "        \n",
    "    try:\n",
    "        deli = driver.find_element(By.XPATH,\"/html/body/div[2]/div[2]/div[5]/div[4]/div[1]/div[3]/div/div/div/div/form/div/div/div/div/div[3]/div/div[2]/div[8]/div[1]/div/div/div[1]/b\")\n",
    "        delivery.append(deli.text)\n",
    "    except NoSuchElementException:\n",
    "        delivery.append('Not Present')\n",
    "        \n",
    "    try:\n",
    "        avail = driver.find_element(By.XPATH,\"/html/body/div[2]/div[2]/div[5]/div[4]/div[1]/div[3]/div/div/div/div/form/div/div/div/div/div[3]/div/div[4]/div/div[1]/span\")\n",
    "        availablity.append(avail.text)\n",
    "    except NoSuchElementException:\n",
    "        availablity.append('-')\n",
    "        \n",
    "    try:\n",
    "        name=driver.find_element(By.XPATH,\"/html/body/div[2]/div[2]/div[5]/div[4]/div[4]/div[1]/div/h1/span\")\n",
    "        prod_name=name.text\n",
    "        product_name.append(prod_name)\n",
    "        if(prod_name == 0):\n",
    "            try:\n",
    "                name1=driver.find_element(By.XPATH,'/html/body/div[2]/div[2]/div[6]/div[4]/div[4]/div[1]/div/h1/span')\n",
    "                product_name.append(name1.text)\n",
    "            except NoSuchElementException:\n",
    "                product_name.append(\"-\")\n",
    "    except:\n",
    "        product_name.append(\"-\")\n",
    "        \n",
    "driver.close()\n",
    "\n",
    "#dataframe\n",
    "product = pd.DataFrame({'Product Name':product_name,'Brand':brand,'Price':price,'Availability':availablity,'Delivery':delivery,'Replacement/Exchange':rep,'URL':product_url})\n",
    "product"
   ]
  },
  {
   "cell_type": "markdown",
   "id": "423eb2ab",
   "metadata": {},
   "source": [
    "# 3. Write a python program to access the search bar and search button on images.google.com and scrape 100 images each for keywords ‘fruits’, ‘cars’ and ‘Machine Learning’."
   ]
  },
  {
   "cell_type": "code",
   "execution_count": 7,
   "id": "372750b0",
   "metadata": {},
   "outputs": [],
   "source": [
    "#import all the required libraries\n",
    "import pandas as pd\n",
    "import selenium\n",
    "from selenium import webdriver\n",
    "from selenium.common.exceptions import StaleElementReferenceException, NoSuchElementException\n",
    "import time\n",
    "import re\n",
    "from selenium.webdriver.common.by import By\n",
    "from selenium.webdriver.common.keys import Keys\n",
    "import requests"
   ]
  },
  {
   "cell_type": "code",
   "execution_count": 8,
   "id": "2583147f",
   "metadata": {},
   "outputs": [
    {
     "name": "stderr",
     "output_type": "stream",
     "text": [
      "/var/folders/5_/zt1gkvk17s534j4yb6f487_40000gn/T/ipykernel_53562/1720704192.py:1: DeprecationWarning: executable_path has been deprecated, please pass in a Service object\n",
      "  driver = webdriver.Chrome('/Users/aditya/Downloads/chromedriver')\n"
     ]
    }
   ],
   "source": [
    "driver = webdriver.Chrome('/Users/aditya/Downloads/chromedriver')"
   ]
  },
  {
   "cell_type": "code",
   "execution_count": 9,
   "id": "fa790b9d",
   "metadata": {},
   "outputs": [],
   "source": [
    "imageUrl='https://www.google.co.in/imghp'\n",
    "driver.get(imageUrl)\n",
    "search_list=['fruits','cars','Machine Learning','Guitar','Cakes']"
   ]
  },
  {
   "cell_type": "code",
   "execution_count": null,
   "id": "bfcfd0b5",
   "metadata": {},
   "outputs": [],
   "source": [
    "for i in search_list:\n",
    "    name=i\n",
    "    print(name)\n",
    "    counter=i+str(1)\n",
    "    driver.get(imageUrl)\n",
    "    search_image=driver.find_element(By.XPATH,'/html/body/div[1]/div[3]/form/div[1]/div[1]/div[1]/div/div[2]/input')\n",
    "    search_image.send_keys(name)\n",
    "    time.sleep(2)\n",
    "    search_button=driver.find_element(By.XPATH,'//div[@class=\"zgAlFc\"]')\n",
    "    search_button.click()\n",
    "    time.sleep(5)\n",
    "    images = driver.find_elements(By.XPATH,\"//img[@class='rg_i Q4LuWd']\")\n",
    "    time.sleep(3)\n",
    "    img_urls = []\n",
    "    img_data = []\n",
    "    for image in images:\n",
    "        source = image.get_attribute('src')\n",
    "        if source is not None:\n",
    "            if(source[0:4] == 'http'):\n",
    "                img_urls.append(source)\n",
    "            \n",
    "        \n",
    "    for i in range(len(img_urls)):\n",
    "        if i > 10:\n",
    "            break;\n",
    "        print(\"Downloading {0} of {1} images\".format(i,10))\n",
    "        response = requests.get(img_urls[i])\n",
    "        file = open(r\"/Users/aditya/Desktop/fliprobo/workset5_webscrapping/sources/\"+counter+str(i)+\".jpg\",'wb')\n",
    "        file.write(response.content)\n",
    "        #file.close()\n",
    "driver.close()"
   ]
  },
  {
   "cell_type": "markdown",
   "id": "8621d068",
   "metadata": {},
   "source": [
    "# 4. Write a python program to search for a smartphone(e.g.: Oneplus Nord, pixel 4A, etc.) on www.flipkart.com and scrape following details for all the search results displayed on 1st page."
   ]
  },
  {
   "cell_type": "code",
   "execution_count": 11,
   "id": "03522167",
   "metadata": {},
   "outputs": [],
   "source": [
    "#import all the required libraries\n",
    "import pandas as pd\n",
    "import selenium\n",
    "from selenium import webdriver\n",
    "from selenium.common.exceptions import StaleElementReferenceException, NoSuchElementException\n",
    "import time\n",
    "import re\n",
    "from selenium.webdriver.common.by import By\n",
    "from selenium.webdriver.common.keys import Keys"
   ]
  },
  {
   "cell_type": "code",
   "execution_count": 12,
   "id": "1f111fb7",
   "metadata": {},
   "outputs": [
    {
     "name": "stderr",
     "output_type": "stream",
     "text": [
      "/var/folders/5_/zt1gkvk17s534j4yb6f487_40000gn/T/ipykernel_53562/1720704192.py:1: DeprecationWarning: executable_path has been deprecated, please pass in a Service object\n",
      "  driver = webdriver.Chrome('/Users/aditya/Downloads/chromedriver')\n"
     ]
    }
   ],
   "source": [
    "driver = webdriver.Chrome('/Users/aditya/Downloads/chromedriver')"
   ]
  },
  {
   "cell_type": "code",
   "execution_count": 13,
   "id": "f60bb121",
   "metadata": {},
   "outputs": [],
   "source": [
    "url4='https://www.flipkart.com/search?q=oneplus%20nord&otracker=search&otracker1=search&marketplace=FLIPKART&as-show=on&as=off'\n",
    "driver.get(url4)"
   ]
  },
  {
   "cell_type": "code",
   "execution_count": 14,
   "id": "2a2e1d6d",
   "metadata": {},
   "outputs": [],
   "source": [
    "Brand_Name=[]\n",
    "Colour=[]\n",
    "Storage_RAM_ROM=[]\n",
    "P_F_Camera=[]\n",
    "Display_size_Resolution=[]\n",
    "ProcessorAndCores=[]\n",
    "Battery=[]\n",
    "Price=[]\n",
    "Product_URL=[]"
   ]
  },
  {
   "cell_type": "code",
   "execution_count": 15,
   "id": "d4b89a80",
   "metadata": {},
   "outputs": [
    {
     "data": {
      "text/plain": [
       "23"
      ]
     },
     "execution_count": 15,
     "metadata": {},
     "output_type": "execute_result"
    }
   ],
   "source": [
    "Brand_price=driver.find_elements(By.XPATH,'//div[@class=\"_30jeq3 _1_WHN1\"]')\n",
    "try:\n",
    "    for i in Brand_price:\n",
    "        Price.append(i.text)\n",
    "except:\n",
    "    Price.append(\"-\")\n",
    "\n",
    "len(Price)"
   ]
  },
  {
   "cell_type": "code",
   "execution_count": 16,
   "id": "37e060d5",
   "metadata": {},
   "outputs": [
    {
     "name": "stdout",
     "output_type": "stream",
     "text": [
      "24\n"
     ]
    }
   ],
   "source": [
    "#scraping the Brand_Name \n",
    "BName=driver.find_elements(By.XPATH,\"//div[@class='_4rR01T']\")\n",
    "for i in BName:\n",
    "    if i.text is None :\n",
    "        Brand_Name.append(\"--\") \n",
    "    else:\n",
    "        Brand_Name.append(i.text)\n",
    "print(len(Brand_Name))"
   ]
  },
  {
   "cell_type": "code",
   "execution_count": 17,
   "id": "5f5ae308",
   "metadata": {},
   "outputs": [
    {
     "name": "stdout",
     "output_type": "stream",
     "text": [
      "24\n"
     ]
    }
   ],
   "source": [
    "#scraping the Storage_RAM_ROM \n",
    "ram=driver.find_elements(By.XPATH,\"//ul[@class='_1xgFaf']//li[1]\")\n",
    "for i in ram:\n",
    "    if i.text is None :\n",
    "        Storage_RAM_ROM.append(\"--\") \n",
    "    else:\n",
    "        Storage_RAM_ROM.append(i.text)\n",
    "print(len(Storage_RAM_ROM))"
   ]
  },
  {
   "cell_type": "code",
   "execution_count": 18,
   "id": "f344dfef",
   "metadata": {},
   "outputs": [
    {
     "name": "stdout",
     "output_type": "stream",
     "text": [
      "24\n"
     ]
    }
   ],
   "source": [
    "#scraping the P_F_Camera \n",
    "PC=driver.find_elements(By.XPATH,\"//ul[@class='_1xgFaf']//li[3]\")\n",
    "for i in PC:\n",
    "    if i.text is None :\n",
    "        P_F_Camera.append(\"--\") \n",
    "    else:\n",
    "        P_F_Camera.append(i.text)\n",
    "print(len(P_F_Camera))"
   ]
  },
  {
   "cell_type": "code",
   "execution_count": 19,
   "id": "91d7ce01",
   "metadata": {},
   "outputs": [
    {
     "name": "stdout",
     "output_type": "stream",
     "text": [
      "24\n"
     ]
    }
   ],
   "source": [
    "#scraping the Display_size_Resolution \n",
    "DS=driver.find_elements(By.XPATH,\"//ul[@class='_1xgFaf']//li[2]\")\n",
    "for i in DS:\n",
    "    if i.text is None :\n",
    "        Display_size_Resolution.append(\"--\") \n",
    "    else:\n",
    "        Display_size_Resolution.append(i.text)\n",
    "print(len(Display_size_Resolution))"
   ]
  },
  {
   "cell_type": "code",
   "execution_count": 20,
   "id": "357eb0a4",
   "metadata": {},
   "outputs": [
    {
     "name": "stdout",
     "output_type": "stream",
     "text": [
      "24\n"
     ]
    }
   ],
   "source": [
    "#scraping the ProcessorAndCores \n",
    "P=driver.find_elements(By.XPATH,\"//ul[@class='_1xgFaf']//li[5]\")\n",
    "for i in P:\n",
    "    if i.text is None :\n",
    "        ProcessorAndCores.append(\"--\") \n",
    "    else:\n",
    "        ProcessorAndCores.append(i.text)\n",
    "print(len(ProcessorAndCores))"
   ]
  },
  {
   "cell_type": "code",
   "execution_count": 21,
   "id": "829c9fc5",
   "metadata": {},
   "outputs": [
    {
     "name": "stdout",
     "output_type": "stream",
     "text": [
      "24\n"
     ]
    }
   ],
   "source": [
    "#scraping the Battery \n",
    "B=driver.find_elements(By.XPATH,\"//ul[@class='_1xgFaf']//li[4]\")\n",
    "for i in B:\n",
    "    if i.text is None :\n",
    "        Battery.append(\"--\") \n",
    "    else:\n",
    "        Battery.append(i.text)\n",
    "print(len(Battery))"
   ]
  },
  {
   "cell_type": "code",
   "execution_count": null,
   "id": "0305ed03",
   "metadata": {},
   "outputs": [],
   "source": [
    "FlipKart=pd.DataFrame([])\n",
    "FlipKart['Brand_Name']=Brand_Name\n",
    "FlipKart['Storage_RAM_ROM']=Storage_RAM_ROM\n",
    "FlipKart['Amount P_F_Camera']=P_F_Camera\n",
    "FlipKart['Display_size_Resolution']=Display_size_Resolution\n",
    "FlipKart['ProcessorAndCores']=ProcessorAndCores\n",
    "FlipKart['Battery']=Battery\n",
    "FlipKart['Price']=Price\n",
    "\n",
    "FlipKart"
   ]
  },
  {
   "cell_type": "code",
   "execution_count": 22,
   "id": "e7d7fc36",
   "metadata": {},
   "outputs": [],
   "source": [
    "driver.close()"
   ]
  },
  {
   "cell_type": "markdown",
   "id": "8575c537",
   "metadata": {},
   "source": [
    "# 5. Write a program to scrap geospatial coordinates (latitude, longitude) of a city searched on google maps."
   ]
  },
  {
   "cell_type": "code",
   "execution_count": 23,
   "id": "5e32f824",
   "metadata": {},
   "outputs": [
    {
     "name": "stderr",
     "output_type": "stream",
     "text": [
      "/var/folders/5_/zt1gkvk17s534j4yb6f487_40000gn/T/ipykernel_53562/1720704192.py:1: DeprecationWarning: executable_path has been deprecated, please pass in a Service object\n",
      "  driver = webdriver.Chrome('/Users/aditya/Downloads/chromedriver')\n"
     ]
    }
   ],
   "source": [
    "driver = webdriver.Chrome('/Users/aditya/Downloads/chromedriver')"
   ]
  },
  {
   "cell_type": "code",
   "execution_count": 24,
   "id": "911f960a",
   "metadata": {},
   "outputs": [
    {
     "name": "stdout",
     "output_type": "stream",
     "text": [
      "Enter city name for which coordinates is required : mumbai\n"
     ]
    }
   ],
   "source": [
    "driver.get(\"https://www.google.com/maps/\")\n",
    "user_input=input(\"Enter city name for which coordinates is required : \")\n",
    "time.sleep(5)"
   ]
  },
  {
   "cell_type": "code",
   "execution_count": 25,
   "id": "714ff514",
   "metadata": {},
   "outputs": [],
   "source": [
    "\n",
    "search=driver.find_element(By.XPATH,'//input[@autofocus=\"autofocus\"]')\n",
    "search.click()\n",
    "search.send_keys(user_input)\n",
    "search_button=driver.find_element(By.ID,'searchbox-searchbutton')\n",
    "search_button.click()\n",
    "time.sleep(5)"
   ]
  },
  {
   "cell_type": "code",
   "execution_count": 26,
   "id": "2740222a",
   "metadata": {},
   "outputs": [
    {
     "name": "stdout",
     "output_type": "stream",
     "text": [
      "URL Extracted : https://www.google.com/maps/place/Mumbai,+Maharashtra/@19.0826881,72.6009798,10z/data=!3m1!4b1!4m6!3m5!1s0x3be7c6306644edc1:0x5da4ed8f8d648c69!8m2!3d19.0759837!4d72.8776559!16zL20vMDR2bXA\n"
     ]
    },
    {
     "data": {
      "text/html": [
       "<div>\n",
       "<style scoped>\n",
       "    .dataframe tbody tr th:only-of-type {\n",
       "        vertical-align: middle;\n",
       "    }\n",
       "\n",
       "    .dataframe tbody tr th {\n",
       "        vertical-align: top;\n",
       "    }\n",
       "\n",
       "    .dataframe thead th {\n",
       "        text-align: right;\n",
       "    }\n",
       "</style>\n",
       "<table border=\"1\" class=\"dataframe\">\n",
       "  <thead>\n",
       "    <tr style=\"text-align: right;\">\n",
       "      <th></th>\n",
       "      <th>Enter Location</th>\n",
       "      <th>latitude</th>\n",
       "      <th>longitude</th>\n",
       "    </tr>\n",
       "  </thead>\n",
       "  <tbody>\n",
       "    <tr>\n",
       "      <th>0</th>\n",
       "      <td>mumbai</td>\n",
       "      <td>19.0826881</td>\n",
       "      <td>72.6009798</td>\n",
       "    </tr>\n",
       "  </tbody>\n",
       "</table>\n",
       "</div>"
      ],
      "text/plain": [
       "  Enter Location    latitude   longitude\n",
       "0         mumbai  19.0826881  72.6009798"
      ]
     },
     "execution_count": 26,
     "metadata": {},
     "output_type": "execute_result"
    }
   ],
   "source": [
    "lat=[]\n",
    "long=[]\n",
    "try:\n",
    "    url_string = driver.current_url\n",
    "    print(\"URL Extracted :\",url_string)\n",
    "    lat_long = re.findall(r'@(.*)data',url_string)\n",
    "    if len(lat_long):\n",
    "        lat_long_list = lat_long[0].split(\",\")\n",
    "        if len(lat_long_list)>=2:\n",
    "            lat.append(lat_long_list[0])\n",
    "            long.append(lat_long_list[1])\n",
    "except Exception as e:\n",
    "    print(\"error:\",str(e))\n",
    "\n",
    "time.sleep(2)\n",
    "driver.close()\n",
    "\n",
    "location_data=pd.DataFrame({'Enter Location':user_input,'latitude':lat,'longitude':long})\n",
    "location_data"
   ]
  },
  {
   "cell_type": "code",
   "execution_count": null,
   "id": "73c13138",
   "metadata": {},
   "outputs": [],
   "source": []
  },
  {
   "cell_type": "markdown",
   "id": "23bd24dd",
   "metadata": {},
   "source": [
    "# 6. Write a program to scrap details of all the funding deals for second quarter (i.e. July 20 – September 20) from trak.in."
   ]
  },
  {
   "cell_type": "code",
   "execution_count": 27,
   "id": "adae15a5",
   "metadata": {},
   "outputs": [
    {
     "name": "stderr",
     "output_type": "stream",
     "text": [
      "/var/folders/5_/zt1gkvk17s534j4yb6f487_40000gn/T/ipykernel_53562/1720704192.py:1: DeprecationWarning: executable_path has been deprecated, please pass in a Service object\n",
      "  driver = webdriver.Chrome('/Users/aditya/Downloads/chromedriver')\n"
     ]
    }
   ],
   "source": [
    "driver = webdriver.Chrome('/Users/aditya/Downloads/chromedriver')"
   ]
  },
  {
   "cell_type": "code",
   "execution_count": 28,
   "id": "831263aa",
   "metadata": {},
   "outputs": [],
   "source": [
    "url1=\"https://trak.in/india-startup-funding-investment-2015/\"\n",
    "driver.get(url1)"
   ]
  },
  {
   "cell_type": "code",
   "execution_count": 29,
   "id": "af65148d",
   "metadata": {},
   "outputs": [],
   "source": [
    "Dates=[]\n",
    "Company=[]\n",
    "Industry=[]\n",
    "Investor_Name=[]\n",
    "Investment_Type=[]\n",
    "Amount=[]"
   ]
  },
  {
   "cell_type": "code",
   "execution_count": null,
   "id": "5d06252b",
   "metadata": {},
   "outputs": [],
   "source": [
    "#scraping the company_name \n",
    "companies=driver.find_elements(By.XPATH,\"//td[@class='column-3']\")\n",
    "for i in companies:\n",
    "    if i.text is None :\n",
    "        Company.append(\"--\") \n",
    "    else:\n",
    "        Company.append(i.text)\n",
    "print(len(Company))"
   ]
  },
  {
   "cell_type": "code",
   "execution_count": null,
   "id": "f2d76eaa",
   "metadata": {},
   "outputs": [],
   "source": [
    "#scraping the Industry \n",
    "Ind=driver.find_elements(By.XPATH,\"//td[@class='column-4']\")\n",
    "for i in Ind:\n",
    "    if i.text is None :\n",
    "        Industry.append(\"--\") \n",
    "    else:\n",
    "        Industry.append(i.text)\n",
    "print(len(Industry))"
   ]
  },
  {
   "cell_type": "code",
   "execution_count": null,
   "id": "6b66fad3",
   "metadata": {},
   "outputs": [],
   "source": [
    "#scraping the Dates \n",
    "dt=driver.find_elements(By.XPATH,\"//td[@class='column-2']\")\n",
    "for i in dt:\n",
    "    if i.text is None :\n",
    "        Dates.append(\"--\") \n",
    "    else:\n",
    "        Dates.append(i.text)\n",
    "print(len(Dates))"
   ]
  },
  {
   "cell_type": "code",
   "execution_count": null,
   "id": "f50d57b6",
   "metadata": {},
   "outputs": [],
   "source": [
    "#scraping the Investor_Name \n",
    "IN=driver.find_elements(By.XPATH,\"//td[@class='column-7']\")\n",
    "for i in IN:\n",
    "    if i.text is None :\n",
    "        Investor_Name.append(\"--\") \n",
    "    else:\n",
    "        Investor_Name.append(i.text)\n",
    "print(len(Investor_Name))"
   ]
  },
  {
   "cell_type": "code",
   "execution_count": null,
   "id": "c30d24aa",
   "metadata": {},
   "outputs": [],
   "source": [
    "#scraping the Investment_Type \n",
    "IT=driver.find_elements(By.XPATH,\"//td[@class='column-8']\")\n",
    "for i in IT:\n",
    "    if i.text is None :\n",
    "        Investment_Type.append(\"--\") \n",
    "    else:\n",
    "        Investment_Type.append(i.text)\n",
    "print(len(Investment_Type))"
   ]
  },
  {
   "cell_type": "code",
   "execution_count": null,
   "id": "58439054",
   "metadata": {},
   "outputs": [],
   "source": [
    "#scraping the Amount \n",
    "Price=driver.find_elements(By.XPATH,\"//td[@class='column-9']\")\n",
    "for i in Price:\n",
    "    if i.text is None :\n",
    "        Amount.append(\"--\") \n",
    "    else:\n",
    "        Amount.append(i.text)\n",
    "print(len(Amount))"
   ]
  },
  {
   "cell_type": "code",
   "execution_count": 36,
   "id": "77cbcfdc",
   "metadata": {},
   "outputs": [
    {
     "data": {
      "text/html": [
       "<div>\n",
       "<style scoped>\n",
       "    .dataframe tbody tr th:only-of-type {\n",
       "        vertical-align: middle;\n",
       "    }\n",
       "\n",
       "    .dataframe tbody tr th {\n",
       "        vertical-align: top;\n",
       "    }\n",
       "\n",
       "    .dataframe thead th {\n",
       "        text-align: right;\n",
       "    }\n",
       "</style>\n",
       "<table border=\"1\" class=\"dataframe\">\n",
       "  <thead>\n",
       "    <tr style=\"text-align: right;\">\n",
       "      <th></th>\n",
       "      <th>Company</th>\n",
       "      <th>Industry</th>\n",
       "      <th>Investor_Name</th>\n",
       "      <th>Amount Invested</th>\n",
       "      <th>Specification</th>\n",
       "      <th>Dates</th>\n",
       "    </tr>\n",
       "  </thead>\n",
       "  <tbody>\n",
       "    <tr>\n",
       "      <th>0</th>\n",
       "      <td>BYJU’S</td>\n",
       "      <td>Edu-tech</td>\n",
       "      <td>Innoven Capital</td>\n",
       "      <td>460,000,000</td>\n",
       "      <td>Series F</td>\n",
       "      <td>01/04/2021</td>\n",
       "    </tr>\n",
       "    <tr>\n",
       "      <th>1</th>\n",
       "      <td>Meesho</td>\n",
       "      <td>E-commerce</td>\n",
       "      <td>SoftBank Vision Fund 2</td>\n",
       "      <td>300,000,000</td>\n",
       "      <td>Series E</td>\n",
       "      <td>05/04/2021</td>\n",
       "    </tr>\n",
       "    <tr>\n",
       "      <th>2</th>\n",
       "      <td>Swiggy</td>\n",
       "      <td>Online Food Delivery</td>\n",
       "      <td>Amansa Holdings, Carmignac, Falcon Edge Capita...</td>\n",
       "      <td>343,000,000</td>\n",
       "      <td>Series J</td>\n",
       "      <td>14/04/2021</td>\n",
       "    </tr>\n",
       "    <tr>\n",
       "      <th>3</th>\n",
       "      <td>Groww</td>\n",
       "      <td>FinTech</td>\n",
       "      <td>MC Global Edtech, B Capital, Baron, others</td>\n",
       "      <td>83,000,000</td>\n",
       "      <td>Series D</td>\n",
       "      <td>07/04/2021</td>\n",
       "    </tr>\n",
       "    <tr>\n",
       "      <th>4</th>\n",
       "      <td>Beldara</td>\n",
       "      <td>E-commerce</td>\n",
       "      <td>Hindustan Media Ventures</td>\n",
       "      <td>7,400,000</td>\n",
       "      <td>Venture</td>\n",
       "      <td>14/04/2021</td>\n",
       "    </tr>\n",
       "    <tr>\n",
       "      <th>...</th>\n",
       "      <td>...</td>\n",
       "      <td>...</td>\n",
       "      <td>...</td>\n",
       "      <td>...</td>\n",
       "      <td>...</td>\n",
       "      <td>...</td>\n",
       "    </tr>\n",
       "    <tr>\n",
       "      <th>387</th>\n",
       "      <td>zippserv</td>\n",
       "      <td>Consumer Internet</td>\n",
       "      <td>Info Edge (India) Ltd</td>\n",
       "      <td>440,000</td>\n",
       "      <td>Seed/ Angel Funding</td>\n",
       "      <td>09/07/2018</td>\n",
       "    </tr>\n",
       "    <tr>\n",
       "      <th>388</th>\n",
       "      <td>Groww</td>\n",
       "      <td>Consumer Internet</td>\n",
       "      <td>Insignia Ventures Partners, Lightbridge Partne...</td>\n",
       "      <td>1,100,000</td>\n",
       "      <td>Seed/ Angel Funding</td>\n",
       "      <td>09/07/2018</td>\n",
       "    </tr>\n",
       "    <tr>\n",
       "      <th>389</th>\n",
       "      <td>Avenue Growth</td>\n",
       "      <td>Consumer Internet</td>\n",
       "      <td>Avtar Monga, chief operating office at IDFC Ba...</td>\n",
       "      <td>437,000</td>\n",
       "      <td>Seed/ Angel Funding</td>\n",
       "      <td>10/07/2018</td>\n",
       "    </tr>\n",
       "    <tr>\n",
       "      <th>390</th>\n",
       "      <td>iNICU</td>\n",
       "      <td>Healthcare</td>\n",
       "      <td>Venture Catalysts</td>\n",
       "      <td>N/A</td>\n",
       "      <td>Seed/ Angel Funding</td>\n",
       "      <td>10/07/2018</td>\n",
       "    </tr>\n",
       "    <tr>\n",
       "      <th>391</th>\n",
       "      <td>Kinara Capital</td>\n",
       "      <td>Finance</td>\n",
       "      <td>ResponsAbility</td>\n",
       "      <td>5,000,000</td>\n",
       "      <td>Private Equity</td>\n",
       "      <td>10/07/2018</td>\n",
       "    </tr>\n",
       "  </tbody>\n",
       "</table>\n",
       "<p>392 rows × 6 columns</p>\n",
       "</div>"
      ],
      "text/plain": [
       "            Company              Industry  \\\n",
       "0            BYJU’S              Edu-tech   \n",
       "1            Meesho            E-commerce   \n",
       "2            Swiggy  Online Food Delivery   \n",
       "3             Groww               FinTech   \n",
       "4           Beldara            E-commerce   \n",
       "..              ...                   ...   \n",
       "387        zippserv     Consumer Internet   \n",
       "388           Groww     Consumer Internet   \n",
       "389   Avenue Growth     Consumer Internet   \n",
       "390           iNICU            Healthcare   \n",
       "391  Kinara Capital               Finance   \n",
       "\n",
       "                                         Investor_Name Amount Invested  \\\n",
       "0                                      Innoven Capital     460,000,000   \n",
       "1                               SoftBank Vision Fund 2     300,000,000   \n",
       "2    Amansa Holdings, Carmignac, Falcon Edge Capita...     343,000,000   \n",
       "3           MC Global Edtech, B Capital, Baron, others      83,000,000   \n",
       "4                             Hindustan Media Ventures       7,400,000   \n",
       "..                                                 ...             ...   \n",
       "387                              Info Edge (India) Ltd         440,000   \n",
       "388  Insignia Ventures Partners, Lightbridge Partne...       1,100,000   \n",
       "389  Avtar Monga, chief operating office at IDFC Ba...         437,000   \n",
       "390                                  Venture Catalysts             N/A   \n",
       "391                                     ResponsAbility       5,000,000   \n",
       "\n",
       "           Specification       Dates  \n",
       "0               Series F  01/04/2021  \n",
       "1               Series E  05/04/2021  \n",
       "2               Series J  14/04/2021  \n",
       "3               Series D  07/04/2021  \n",
       "4                Venture  14/04/2021  \n",
       "..                   ...         ...  \n",
       "387  Seed/ Angel Funding  09/07/2018  \n",
       "388  Seed/ Angel Funding  09/07/2018  \n",
       "389  Seed/ Angel Funding  10/07/2018  \n",
       "390  Seed/ Angel Funding  10/07/2018  \n",
       "391       Private Equity  10/07/2018  \n",
       "\n",
       "[392 rows x 6 columns]"
      ]
     },
     "execution_count": 36,
     "metadata": {},
     "output_type": "execute_result"
    }
   ],
   "source": [
    "Funding=pd.DataFrame([])\n",
    "Funding['Company']=Company\n",
    "Funding['Industry']=Industry\n",
    "Funding['Investor_Name']=Investor_Name\n",
    "Funding['Amount Invested']=Amount\n",
    "Funding['Specification']=Investment_Type\n",
    "Funding['Dates']=Dates\n",
    "Funding"
   ]
  },
  {
   "cell_type": "code",
   "execution_count": 37,
   "id": "37146bf9",
   "metadata": {},
   "outputs": [],
   "source": [
    "driver.close()"
   ]
  },
  {
   "cell_type": "markdown",
   "id": "c33ad5c1",
   "metadata": {},
   "source": [
    "# 7. Write a program to scrap all the available details of top 10 gaming laptops from digit.in."
   ]
  },
  {
   "cell_type": "code",
   "execution_count": 38,
   "id": "ba49161c",
   "metadata": {},
   "outputs": [],
   "source": [
    "#import all the required libraries\n",
    "import pandas as pd\n",
    "import selenium\n",
    "from selenium import webdriver\n",
    "from selenium.common.exceptions import StaleElementReferenceException, NoSuchElementException\n",
    "import time\n",
    "import re\n",
    "from selenium.webdriver.common.by import By\n",
    "from selenium.webdriver.common.keys import Keys"
   ]
  },
  {
   "cell_type": "code",
   "execution_count": 39,
   "id": "a91b6551",
   "metadata": {},
   "outputs": [
    {
     "name": "stderr",
     "output_type": "stream",
     "text": [
      "/var/folders/5_/zt1gkvk17s534j4yb6f487_40000gn/T/ipykernel_53562/1720704192.py:1: DeprecationWarning: executable_path has been deprecated, please pass in a Service object\n",
      "  driver = webdriver.Chrome('/Users/aditya/Downloads/chromedriver')\n"
     ]
    }
   ],
   "source": [
    "driver = webdriver.Chrome('/Users/aditya/Downloads/chromedriver')"
   ]
  },
  {
   "cell_type": "code",
   "execution_count": 40,
   "id": "f005d022",
   "metadata": {},
   "outputs": [],
   "source": [
    "url=\"https://www.digit.in/top-products/best-gaming-laptops-40.html\"\n",
    "driver.get(url)"
   ]
  },
  {
   "cell_type": "code",
   "execution_count": 41,
   "id": "41535637",
   "metadata": {},
   "outputs": [],
   "source": [
    "Brands=[]\n",
    "Products_Description=[]\n",
    "Specification=[]\n",
    "Price=[]"
   ]
  },
  {
   "cell_type": "code",
   "execution_count": null,
   "id": "618da4b4",
   "metadata": {},
   "outputs": [],
   "source": [
    "br= driver.find_elements(By.XPATH,'//div[@class=\"TopNumbeHeading\"]')\n",
    "\n",
    "# br=driver.find_elements_by_xpath(\"//div[@class=TopNumbeHeading]\")\n",
    "len(br)\n",
    "for i in br:\n",
    "   \n",
    "    Brands.append(str(i.text).replace(\"\\n\",\"\"))\n",
    "Brands"
   ]
  },
  {
   "cell_type": "code",
   "execution_count": null,
   "id": "4f602c80",
   "metadata": {},
   "outputs": [],
   "source": [
    "sp=driver.find_elements(By.XPATH,\"//div[@class='Specs-Wrap']\")\n",
    "len(sp)\n",
    "for i in sp:\n",
    "   \n",
    "    Specification.append(str(i.text).replace(\"\\n\",\"\"))\n",
    "Specification"
   ]
  },
  {
   "cell_type": "code",
   "execution_count": null,
   "id": "7b4791b5",
   "metadata": {},
   "outputs": [],
   "source": [
    "des=driver.find_elements(By.XPATH,\"//div[@class='Section-center']\")\n",
    "len(des)\n",
    "for i in des:\n",
    "   \n",
    "    Products_Description.append(str(i.text).replace(\"\\n\",\"\"))\n",
    "Products_Description"
   ]
  },
  {
   "cell_type": "code",
   "execution_count": null,
   "id": "09520e06",
   "metadata": {},
   "outputs": [],
   "source": [
    "pri=driver.find_elements(By.XPATH,\"//td[@class='smprice']\")\n",
    "len(pri)\n",
    "for i in pri:\n",
    "   \n",
    "    Price.append(str(i.text).replace(\"\\n\",\"\"))\n",
    "Price"
   ]
  },
  {
   "cell_type": "code",
   "execution_count": 46,
   "id": "44824742",
   "metadata": {},
   "outputs": [
    {
     "data": {
      "text/html": [
       "<div>\n",
       "<style scoped>\n",
       "    .dataframe tbody tr th:only-of-type {\n",
       "        vertical-align: middle;\n",
       "    }\n",
       "\n",
       "    .dataframe tbody tr th {\n",
       "        vertical-align: top;\n",
       "    }\n",
       "\n",
       "    .dataframe thead th {\n",
       "        text-align: right;\n",
       "    }\n",
       "</style>\n",
       "<table border=\"1\" class=\"dataframe\">\n",
       "  <thead>\n",
       "    <tr style=\"text-align: right;\">\n",
       "      <th></th>\n",
       "      <th>Brands</th>\n",
       "      <th>Price</th>\n",
       "      <th>Specification</th>\n",
       "      <th>Description</th>\n",
       "    </tr>\n",
       "  </thead>\n",
       "  <tbody>\n",
       "    <tr>\n",
       "      <th>0</th>\n",
       "      <td>1.MSI Titan GT77-12UHS</td>\n",
       "      <td>N/A</td>\n",
       "      <td>Windows 11 Home OS17.3\" (3840 x 2160) Display1...</td>\n",
       "      <td>The very best MSI gaming laptop featuring an I...</td>\n",
       "    </tr>\n",
       "    <tr>\n",
       "      <th>1</th>\n",
       "      <td>2.Alienware X17 R2</td>\n",
       "      <td>₹ 389,990</td>\n",
       "      <td>Windows 11 Home OS17.3\" (1920 x 1080) Display1...</td>\n",
       "      <td>Alienware, the premium gaming brand from Dell ...</td>\n",
       "    </tr>\n",
       "    <tr>\n",
       "      <th>2</th>\n",
       "      <td>3.Acer Predator Triton 500 SE PT516-52s</td>\n",
       "      <td>₹ 229,990</td>\n",
       "      <td>Windows 11 OS16\" (2560 x 1600) Display12th Gen...</td>\n",
       "      <td>The Predator lineup from Acer has shown great ...</td>\n",
       "    </tr>\n",
       "    <tr>\n",
       "      <th>3</th>\n",
       "      <td>4.Omen By HP (16-B1371TX)</td>\n",
       "      <td>₹ 176,490</td>\n",
       "      <td>Windows 11 Home OS16.1\" (2560 x 1440) Display1...</td>\n",
       "      <td>Omen by HP is a premium gaming lineup which is...</td>\n",
       "    </tr>\n",
       "    <tr>\n",
       "      <th>4</th>\n",
       "      <td>5.Acer Predator Helios 300 AN515-45</td>\n",
       "      <td>₹ 172,999</td>\n",
       "      <td>Windows 11 Home OS15.6\" (2560 x 1440) DisplayA...</td>\n",
       "      <td>Acer Predator Helios 300 AN515-45 is the best ...</td>\n",
       "    </tr>\n",
       "    <tr>\n",
       "      <th>5</th>\n",
       "      <td>6.MSI Delta 15 (A5EFK-083IN)</td>\n",
       "      <td>₹ 188,990</td>\n",
       "      <td>Windows 11 Home OS15.6\" (1920 x 1080) DisplayA...</td>\n",
       "      <td>The best MSI gaming laptop with an AMD process...</td>\n",
       "    </tr>\n",
       "    <tr>\n",
       "      <th>6</th>\n",
       "      <td>7.Omen By HP (16-C0141AX)</td>\n",
       "      <td>₹ 124,990</td>\n",
       "      <td>Windows 11 Home OS16.1\" (2560 x 1440) DisplayA...</td>\n",
       "      <td>Another worthy gaming laptop from the Omen lin...</td>\n",
       "    </tr>\n",
       "    <tr>\n",
       "      <th>7</th>\n",
       "      <td>8.Lenovo Legion 5i Pro (82RF00MGIN)</td>\n",
       "      <td>₹ 167,990</td>\n",
       "      <td>Windows 11 Home OS16\" (2560 x 1600) Display12t...</td>\n",
       "      <td>Lenovo has gone a little mainstream with their...</td>\n",
       "    </tr>\n",
       "    <tr>\n",
       "      <th>8</th>\n",
       "      <td>9.Alienware M15 R5 Ryzen Edition Icc-C780001win</td>\n",
       "      <td>₹ 174,000</td>\n",
       "      <td>Windows 11 Home OS15.6\" (1920 x 1080) DisplayA...</td>\n",
       "      <td>Dell not only has gaming laptops under the Del...</td>\n",
       "    </tr>\n",
       "    <tr>\n",
       "      <th>9</th>\n",
       "      <td>10.Lenovo Slim 7 Gen 6 (82K8002JIN)</td>\n",
       "      <td>₹ 131,990</td>\n",
       "      <td>Windows 11 Home OS15.6 MP | NA DisplayLenovo R...</td>\n",
       "      <td>Lenovo has been pushing for thinner gaming lap...</td>\n",
       "    </tr>\n",
       "  </tbody>\n",
       "</table>\n",
       "</div>"
      ],
      "text/plain": [
       "                                            Brands      Price  \\\n",
       "0                           1.MSI Titan GT77-12UHS        N/A   \n",
       "1                               2.Alienware X17 R2  ₹ 389,990   \n",
       "2          3.Acer Predator Triton 500 SE PT516-52s  ₹ 229,990   \n",
       "3                        4.Omen By HP (16-B1371TX)  ₹ 176,490   \n",
       "4              5.Acer Predator Helios 300 AN515-45  ₹ 172,999   \n",
       "5                     6.MSI Delta 15 (A5EFK-083IN)  ₹ 188,990   \n",
       "6                        7.Omen By HP (16-C0141AX)  ₹ 124,990   \n",
       "7              8.Lenovo Legion 5i Pro (82RF00MGIN)  ₹ 167,990   \n",
       "8  9.Alienware M15 R5 Ryzen Edition Icc-C780001win  ₹ 174,000   \n",
       "9              10.Lenovo Slim 7 Gen 6 (82K8002JIN)  ₹ 131,990   \n",
       "\n",
       "                                       Specification  \\\n",
       "0  Windows 11 Home OS17.3\" (3840 x 2160) Display1...   \n",
       "1  Windows 11 Home OS17.3\" (1920 x 1080) Display1...   \n",
       "2  Windows 11 OS16\" (2560 x 1600) Display12th Gen...   \n",
       "3  Windows 11 Home OS16.1\" (2560 x 1440) Display1...   \n",
       "4  Windows 11 Home OS15.6\" (2560 x 1440) DisplayA...   \n",
       "5  Windows 11 Home OS15.6\" (1920 x 1080) DisplayA...   \n",
       "6  Windows 11 Home OS16.1\" (2560 x 1440) DisplayA...   \n",
       "7  Windows 11 Home OS16\" (2560 x 1600) Display12t...   \n",
       "8  Windows 11 Home OS15.6\" (1920 x 1080) DisplayA...   \n",
       "9  Windows 11 Home OS15.6 MP | NA DisplayLenovo R...   \n",
       "\n",
       "                                         Description  \n",
       "0  The very best MSI gaming laptop featuring an I...  \n",
       "1  Alienware, the premium gaming brand from Dell ...  \n",
       "2  The Predator lineup from Acer has shown great ...  \n",
       "3  Omen by HP is a premium gaming lineup which is...  \n",
       "4  Acer Predator Helios 300 AN515-45 is the best ...  \n",
       "5  The best MSI gaming laptop with an AMD process...  \n",
       "6  Another worthy gaming laptop from the Omen lin...  \n",
       "7  Lenovo has gone a little mainstream with their...  \n",
       "8  Dell not only has gaming laptops under the Del...  \n",
       "9  Lenovo has been pushing for thinner gaming lap...  "
      ]
     },
     "execution_count": 46,
     "metadata": {},
     "output_type": "execute_result"
    }
   ],
   "source": [
    "digit_lap=pd.DataFrame([])\n",
    "digit_lap['Brands']=Brands[0:10]\n",
    "digit_lap['Price']=Price[0:10]\n",
    "digit_lap['Specification']=Specification[0:10]\n",
    "digit_lap['Description']=Products_Description[0:10]\n",
    "digit_lap"
   ]
  },
  {
   "cell_type": "code",
   "execution_count": 47,
   "id": "cfcceeda",
   "metadata": {},
   "outputs": [],
   "source": [
    "driver.close()"
   ]
  },
  {
   "cell_type": "code",
   "execution_count": null,
   "id": "4c0aff7b",
   "metadata": {},
   "outputs": [],
   "source": []
  },
  {
   "cell_type": "markdown",
   "id": "0b185a1c",
   "metadata": {},
   "source": [
    "# 8 Write a python program to scrape the details for all billionaires from www.forbes.# com. Details to bescrapped: “Rank”, “Name”, “Net worth”, “Age”, “Citizenship”, “Source”, “Industry”."
   ]
  },
  {
   "cell_type": "code",
   "execution_count": 48,
   "id": "6d4d961e",
   "metadata": {},
   "outputs": [
    {
     "name": "stderr",
     "output_type": "stream",
     "text": [
      "/var/folders/5_/zt1gkvk17s534j4yb6f487_40000gn/T/ipykernel_53562/1720704192.py:1: DeprecationWarning: executable_path has been deprecated, please pass in a Service object\n",
      "  driver = webdriver.Chrome('/Users/aditya/Downloads/chromedriver')\n"
     ]
    }
   ],
   "source": [
    "driver = webdriver.Chrome('/Users/aditya/Downloads/chromedriver')"
   ]
  },
  {
   "cell_type": "code",
   "execution_count": 49,
   "id": "741c6d89",
   "metadata": {},
   "outputs": [],
   "source": [
    "driver.get(\"https://www.forbes.com/\")"
   ]
  },
  {
   "cell_type": "code",
   "execution_count": 50,
   "id": "996f6a8b",
   "metadata": {},
   "outputs": [],
   "source": [
    "\n",
    "#Try block to navigating to page all billionaires page\n",
    "try:\n",
    "    menu=driver.find_element(By.XPATH,\"//div[@class='header__left']\")\n",
    "    menu.click()\n",
    "    \n",
    "    billionaires=driver.find_element(By.XPATH,\"//li[@data-title='Billionaires']\")\n",
    "    billionaires.click()\n",
    "\n",
    "    worldBillionaires=driver.find_element(By.XPATH,'/html/body/div[1]/header/nav/div[3]/ul/li[1]/div[2]/ul/li[2]/a')\n",
    "    worldBillionaires.click()\n",
    "    \n",
    "except NoSuchElementException:\n",
    "    #Except block if try block doesn't works \n",
    "    driver.get(\"https://www.forbes.com/billionaires/\")"
   ]
  },
  {
   "cell_type": "code",
   "execution_count": 51,
   "id": "303e6e81",
   "metadata": {},
   "outputs": [],
   "source": [
    "time.sleep(3)\n",
    "rank=[]\n",
    "name=[]\n",
    "net_worth=[]\n",
    "age=[]\n",
    "citizenship=[]\n",
    "source=[]\n",
    "industry=[]\n",
    "\n",
    "time.sleep(3)\n",
    "start=0\n",
    "end=13"
   ]
  },
  {
   "cell_type": "code",
   "execution_count": 52,
   "id": "414579b8",
   "metadata": {},
   "outputs": [],
   "source": [
    "for page in range(start,end):\n",
    "    ranks=driver.find_elements(By.XPATH,'//div[@class=\"rank\"]')\n",
    "    try:\n",
    "        for i in ranks:\n",
    "            b_ranks=i.text\n",
    "            rank.append(b_ranks)\n",
    "    except NoSuchElementException:\n",
    "        rank.append(\"-\")\n",
    "    \n",
    "    names=driver.find_elements(By.XPATH,'//div[@class=\"personName\"]')\n",
    "    try:\n",
    "        for i in names:\n",
    "            b_names=i.text\n",
    "            name.append(b_names)\n",
    "    except NoSuchElementException:\n",
    "        name.append(\"-\")\n",
    "        \n",
    "    netWorth=driver.find_elements(By.XPATH,'//div[@class=\"netWorth\"]')\n",
    "    try:\n",
    "        for i in netWorth:\n",
    "            b_networth=i.text\n",
    "            net_worth.append(b_networth)\n",
    "    except NoSuchElementException:\n",
    "        net_worth.append(\"-\")\n",
    "    \n",
    "    ages=driver.find_elements(By.XPATH,'//div[@class=\"netWorth\"]')\n",
    "    try:\n",
    "        for i in ages:\n",
    "            b_age=i.text\n",
    "            age.append(b_age)\n",
    "    except NoSuchElementException:\n",
    "        age.append(\"-\")\n",
    "    \n",
    "    citizenships=driver.find_elements(By.XPATH,'//div[@class=\"countryOfCitizenship\"]')\n",
    "    try:\n",
    "        for i in citizenships:\n",
    "            b_citizenship=i.text\n",
    "            citizenship.append(b_citizenship)\n",
    "    except NoSuchElementException:\n",
    "        citizenship.append(\"-\")\n",
    "    \n",
    "    sources=driver.find_elements(By.XPATH,'//div[@class=\"source\"]')\n",
    "    try:\n",
    "        for i in sources:\n",
    "            b_source=i.text\n",
    "            source.append(b_source)\n",
    "    except NoSuchElementException:\n",
    "        source.append(\"-\")\n",
    "        \n",
    "    industries=driver.find_elements(By.XPATH,'//div[@class=\"category\"]')\n",
    "    try:\n",
    "        for i in industries:\n",
    "            b_industries=i.text\n",
    "            industry.append(b_industries)\n",
    "    except NoSuchElementException:\n",
    "        industry.append(\"-\")\n"
   ]
  },
  {
   "cell_type": "code",
   "execution_count": 53,
   "id": "7b2f9bb2",
   "metadata": {},
   "outputs": [
    {
     "data": {
      "text/html": [
       "<div>\n",
       "<style scoped>\n",
       "    .dataframe tbody tr th:only-of-type {\n",
       "        vertical-align: middle;\n",
       "    }\n",
       "\n",
       "    .dataframe tbody tr th {\n",
       "        vertical-align: top;\n",
       "    }\n",
       "\n",
       "    .dataframe thead th {\n",
       "        text-align: right;\n",
       "    }\n",
       "</style>\n",
       "<table border=\"1\" class=\"dataframe\">\n",
       "  <thead>\n",
       "    <tr style=\"text-align: right;\">\n",
       "      <th></th>\n",
       "      <th>Rank</th>\n",
       "      <th>Name</th>\n",
       "      <th>Net Worth</th>\n",
       "      <th>Age</th>\n",
       "      <th>Citizenship</th>\n",
       "      <th>Source</th>\n",
       "      <th>Industry</th>\n",
       "    </tr>\n",
       "  </thead>\n",
       "  <tbody>\n",
       "    <tr>\n",
       "      <th>0</th>\n",
       "      <td>1.</td>\n",
       "      <td>Elon Musk</td>\n",
       "      <td>$219 B</td>\n",
       "      <td>$219 B</td>\n",
       "      <td>United States</td>\n",
       "      <td>Tesla, SpaceX</td>\n",
       "      <td>Automotive</td>\n",
       "    </tr>\n",
       "    <tr>\n",
       "      <th>1</th>\n",
       "      <td>2.</td>\n",
       "      <td>Jeff Bezos</td>\n",
       "      <td>$171 B</td>\n",
       "      <td>$171 B</td>\n",
       "      <td>United States</td>\n",
       "      <td>Amazon</td>\n",
       "      <td>Technology</td>\n",
       "    </tr>\n",
       "    <tr>\n",
       "      <th>2</th>\n",
       "      <td>3.</td>\n",
       "      <td>Bernard Arnault &amp; family</td>\n",
       "      <td>$158 B</td>\n",
       "      <td>$158 B</td>\n",
       "      <td>France</td>\n",
       "      <td>LVMH</td>\n",
       "      <td>Fashion &amp; Retail</td>\n",
       "    </tr>\n",
       "    <tr>\n",
       "      <th>3</th>\n",
       "      <td>4.</td>\n",
       "      <td>Bill Gates</td>\n",
       "      <td>$129 B</td>\n",
       "      <td>$129 B</td>\n",
       "      <td>United States</td>\n",
       "      <td>Microsoft</td>\n",
       "      <td>Technology</td>\n",
       "    </tr>\n",
       "    <tr>\n",
       "      <th>4</th>\n",
       "      <td>5.</td>\n",
       "      <td>Warren Buffett</td>\n",
       "      <td>$118 B</td>\n",
       "      <td>$118 B</td>\n",
       "      <td>United States</td>\n",
       "      <td>Berkshire Hathaway</td>\n",
       "      <td>Finance &amp; Investments</td>\n",
       "    </tr>\n",
       "    <tr>\n",
       "      <th>...</th>\n",
       "      <td>...</td>\n",
       "      <td>...</td>\n",
       "      <td>...</td>\n",
       "      <td>...</td>\n",
       "      <td>...</td>\n",
       "      <td>...</td>\n",
       "      <td>...</td>\n",
       "    </tr>\n",
       "    <tr>\n",
       "      <th>2595</th>\n",
       "      <td>192.</td>\n",
       "      <td>Marcel Herrmann Telles</td>\n",
       "      <td>$10.3 B</td>\n",
       "      <td>$10.3 B</td>\n",
       "      <td>Brazil</td>\n",
       "      <td>beer</td>\n",
       "      <td>Food &amp; Beverage</td>\n",
       "    </tr>\n",
       "    <tr>\n",
       "      <th>2596</th>\n",
       "      <td>197.</td>\n",
       "      <td>Leon Black</td>\n",
       "      <td>$10 B</td>\n",
       "      <td>$10 B</td>\n",
       "      <td>United States</td>\n",
       "      <td>private equity</td>\n",
       "      <td>Finance &amp; Investments</td>\n",
       "    </tr>\n",
       "    <tr>\n",
       "      <th>2597</th>\n",
       "      <td>197.</td>\n",
       "      <td>Joe Gebbia</td>\n",
       "      <td>$10 B</td>\n",
       "      <td>$10 B</td>\n",
       "      <td>United States</td>\n",
       "      <td>Airbnb</td>\n",
       "      <td>Technology</td>\n",
       "    </tr>\n",
       "    <tr>\n",
       "      <th>2598</th>\n",
       "      <td>197.</td>\n",
       "      <td>David Geffen</td>\n",
       "      <td>$10 B</td>\n",
       "      <td>$10 B</td>\n",
       "      <td>United States</td>\n",
       "      <td>movies, record labels</td>\n",
       "      <td>Media &amp; Entertainment</td>\n",
       "    </tr>\n",
       "    <tr>\n",
       "      <th>2599</th>\n",
       "      <td>197.</td>\n",
       "      <td>Yu Renrong</td>\n",
       "      <td>$10 B</td>\n",
       "      <td>$10 B</td>\n",
       "      <td>China</td>\n",
       "      <td>semiconductors</td>\n",
       "      <td>Manufacturing</td>\n",
       "    </tr>\n",
       "  </tbody>\n",
       "</table>\n",
       "<p>2600 rows × 7 columns</p>\n",
       "</div>"
      ],
      "text/plain": [
       "      Rank                      Name Net Worth      Age    Citizenship  \\\n",
       "0       1.                 Elon Musk    $219 B   $219 B  United States   \n",
       "1       2.                Jeff Bezos    $171 B   $171 B  United States   \n",
       "2       3.  Bernard Arnault & family    $158 B   $158 B         France   \n",
       "3       4.                Bill Gates    $129 B   $129 B  United States   \n",
       "4       5.            Warren Buffett    $118 B   $118 B  United States   \n",
       "...    ...                       ...       ...      ...            ...   \n",
       "2595  192.    Marcel Herrmann Telles   $10.3 B  $10.3 B         Brazil   \n",
       "2596  197.                Leon Black     $10 B    $10 B  United States   \n",
       "2597  197.                Joe Gebbia     $10 B    $10 B  United States   \n",
       "2598  197.              David Geffen     $10 B    $10 B  United States   \n",
       "2599  197.                Yu Renrong     $10 B    $10 B          China   \n",
       "\n",
       "                     Source               Industry  \n",
       "0             Tesla, SpaceX             Automotive  \n",
       "1                    Amazon             Technology  \n",
       "2                      LVMH       Fashion & Retail  \n",
       "3                 Microsoft             Technology  \n",
       "4        Berkshire Hathaway  Finance & Investments  \n",
       "...                     ...                    ...  \n",
       "2595                   beer        Food & Beverage  \n",
       "2596         private equity  Finance & Investments  \n",
       "2597                 Airbnb             Technology  \n",
       "2598  movies, record labels  Media & Entertainment  \n",
       "2599         semiconductors          Manufacturing  \n",
       "\n",
       "[2600 rows x 7 columns]"
      ]
     },
     "execution_count": 53,
     "metadata": {},
     "output_type": "execute_result"
    }
   ],
   "source": [
    "billionaires=pd.DataFrame({'Rank':rank,'Name':name,'Net Worth':net_worth,'Age':age,'Citizenship':citizenship,'Source':source,'Industry':industry})\n",
    "billionaires"
   ]
  },
  {
   "cell_type": "code",
   "execution_count": 54,
   "id": "2261697e",
   "metadata": {},
   "outputs": [],
   "source": [
    "driver.close()"
   ]
  },
  {
   "cell_type": "markdown",
   "id": "f2741248",
   "metadata": {},
   "source": [
    "# 9 Write a program to extract at least 500 Comments, Comment upvote and time when comment was posted from any YouTube Video"
   ]
  },
  {
   "cell_type": "code",
   "execution_count": 55,
   "id": "1d690b77",
   "metadata": {},
   "outputs": [
    {
     "name": "stderr",
     "output_type": "stream",
     "text": [
      "/var/folders/5_/zt1gkvk17s534j4yb6f487_40000gn/T/ipykernel_53562/1720704192.py:1: DeprecationWarning: executable_path has been deprecated, please pass in a Service object\n",
      "  driver = webdriver.Chrome('/Users/aditya/Downloads/chromedriver')\n"
     ]
    }
   ],
   "source": [
    "driver = webdriver.Chrome('/Users/aditya/Downloads/chromedriver')"
   ]
  },
  {
   "cell_type": "code",
   "execution_count": 60,
   "id": "66fa6138",
   "metadata": {},
   "outputs": [
    {
     "name": "stdout",
     "output_type": "stream",
     "text": [
      "Enter the URL: https://www.youtube.com/watch?v=Sb0A9i6d320\n"
     ]
    },
    {
     "name": "stderr",
     "output_type": "stream",
     "text": [
      "/var/folders/5_/zt1gkvk17s534j4yb6f487_40000gn/T/ipykernel_53562/443831978.py:3: DeprecationWarning: executable_path has been deprecated, please pass in a Service object\n",
      "  driver=webdriver.Chrome(r\"chromedriver.exe\")\n"
     ]
    }
   ],
   "source": [
    "#https://www.youtube.com/watch?v=r-hZb0iVQZI\n",
    "url=input(\"Enter the URL: \")\n",
    "driver=webdriver.Chrome(r\"chromedriver.exe\")  \n",
    "driver.maximize_window()\n",
    "driver.get(url)\n",
    "time.sleep(5)"
   ]
  },
  {
   "cell_type": "code",
   "execution_count": 61,
   "id": "20c633cb",
   "metadata": {},
   "outputs": [],
   "source": [
    "comments = []\n",
    "upvote = []\n",
    "posted = []"
   ]
  },
  {
   "cell_type": "code",
   "execution_count": 62,
   "id": "384561a6",
   "metadata": {},
   "outputs": [],
   "source": [
    "for _ in range(30):\n",
    "    driver.execute_script(\"window.scrollBy(0,100)\")\n",
    "    time.sleep(3)\n",
    "    \n",
    "    com_xpath = driver.find_elements(By.ID,\"content-text\")\n",
    "    for i in com_xpath:\n",
    "        comments.append(i.text)\n",
    "        \n",
    "    post = driver.find_elements(By.XPATH,'//yt-formatted-string[@class=\"published-time-text style-scope ytd-comment-renderer\"]')\n",
    "    for i in post:\n",
    "        posted.append(i.text)\n",
    "        \n",
    "        \n",
    "    upvotes = driver.find_elements(By.ID,\"vote-count-middle\")\n",
    "    for i in upvotes:\n",
    "        upvote.append(i.text)\n",
    "\n",
    "        \n",
    "driver.close()"
   ]
  },
  {
   "cell_type": "code",
   "execution_count": 63,
   "id": "0ebf23d3",
   "metadata": {},
   "outputs": [
    {
     "data": {
      "text/html": [
       "<div>\n",
       "<style scoped>\n",
       "    .dataframe tbody tr th:only-of-type {\n",
       "        vertical-align: middle;\n",
       "    }\n",
       "\n",
       "    .dataframe tbody tr th {\n",
       "        vertical-align: top;\n",
       "    }\n",
       "\n",
       "    .dataframe thead th {\n",
       "        text-align: right;\n",
       "    }\n",
       "</style>\n",
       "<table border=\"1\" class=\"dataframe\">\n",
       "  <thead>\n",
       "    <tr style=\"text-align: right;\">\n",
       "      <th></th>\n",
       "      <th>Comments</th>\n",
       "      <th>Comments Upvote</th>\n",
       "      <th>Comment is POSTED</th>\n",
       "    </tr>\n",
       "  </thead>\n",
       "  <tbody>\n",
       "    <tr>\n",
       "      <th>0</th>\n",
       "      <td>This is such a great project! So relevant for ...</td>\n",
       "      <td>41</td>\n",
       "      <td>8 months ago</td>\n",
       "    </tr>\n",
       "    <tr>\n",
       "      <th>1</th>\n",
       "      <td>Probably THE BEST tutorial on streamlit! Great...</td>\n",
       "      <td>42</td>\n",
       "      <td>1 year ago</td>\n",
       "    </tr>\n",
       "    <tr>\n",
       "      <th>2</th>\n",
       "      <td>Absolutely awesome demonstration. Thorough exp...</td>\n",
       "      <td>13</td>\n",
       "      <td>8 months ago</td>\n",
       "    </tr>\n",
       "    <tr>\n",
       "      <th>3</th>\n",
       "      <td>Great work chief , love your work and it helps...</td>\n",
       "      <td>11</td>\n",
       "      <td>1 year ago</td>\n",
       "    </tr>\n",
       "    <tr>\n",
       "      <th>4</th>\n",
       "      <td>I’m currently at a beginner level and would li...</td>\n",
       "      <td></td>\n",
       "      <td>4 months ago</td>\n",
       "    </tr>\n",
       "    <tr>\n",
       "      <th>...</th>\n",
       "      <td>...</td>\n",
       "      <td>...</td>\n",
       "      <td>...</td>\n",
       "    </tr>\n",
       "    <tr>\n",
       "      <th>555</th>\n",
       "      <td>hey man, thank you very much for your tutorial...</td>\n",
       "      <td>2</td>\n",
       "      <td>1 year ago</td>\n",
       "    </tr>\n",
       "    <tr>\n",
       "      <th>556</th>\n",
       "      <td>Thanks, mate. Im new to Python and this was gr...</td>\n",
       "      <td>1</td>\n",
       "      <td>5 months ago</td>\n",
       "    </tr>\n",
       "    <tr>\n",
       "      <th>557</th>\n",
       "      <td>Thank you so much for this tutorial. Your expl...</td>\n",
       "      <td>3</td>\n",
       "      <td>1 year ago</td>\n",
       "    </tr>\n",
       "    <tr>\n",
       "      <th>558</th>\n",
       "      <td>Many thanks for this great work ! I found you ...</td>\n",
       "      <td>1</td>\n",
       "      <td>6 months ago</td>\n",
       "    </tr>\n",
       "    <tr>\n",
       "      <th>559</th>\n",
       "      <td>BRUTAL! thank you so much for share this kind ...</td>\n",
       "      <td></td>\n",
       "      <td>3 months ago</td>\n",
       "    </tr>\n",
       "  </tbody>\n",
       "</table>\n",
       "<p>560 rows × 3 columns</p>\n",
       "</div>"
      ],
      "text/plain": [
       "                                              Comments Comments Upvote  \\\n",
       "0    This is such a great project! So relevant for ...              41   \n",
       "1    Probably THE BEST tutorial on streamlit! Great...              42   \n",
       "2    Absolutely awesome demonstration. Thorough exp...              13   \n",
       "3    Great work chief , love your work and it helps...              11   \n",
       "4    I’m currently at a beginner level and would li...                   \n",
       "..                                                 ...             ...   \n",
       "555  hey man, thank you very much for your tutorial...               2   \n",
       "556  Thanks, mate. Im new to Python and this was gr...               1   \n",
       "557  Thank you so much for this tutorial. Your expl...               3   \n",
       "558  Many thanks for this great work ! I found you ...               1   \n",
       "559  BRUTAL! thank you so much for share this kind ...                   \n",
       "\n",
       "    Comment is POSTED  \n",
       "0        8 months ago  \n",
       "1          1 year ago  \n",
       "2        8 months ago  \n",
       "3          1 year ago  \n",
       "4        4 months ago  \n",
       "..                ...  \n",
       "555        1 year ago  \n",
       "556      5 months ago  \n",
       "557        1 year ago  \n",
       "558      6 months ago  \n",
       "559      3 months ago  \n",
       "\n",
       "[560 rows x 3 columns]"
      ]
     },
     "execution_count": 63,
     "metadata": {},
     "output_type": "execute_result"
    }
   ],
   "source": [
    "youtube_video=pd.DataFrame({'Comments':comments,'Comments Upvote':upvote,'Comment is POSTED':posted})\n",
    "youtube_video"
   ]
  },
  {
   "cell_type": "code",
   "execution_count": null,
   "id": "5e7eae23",
   "metadata": {},
   "outputs": [],
   "source": [
    "driver.close()"
   ]
  },
  {
   "cell_type": "code",
   "execution_count": null,
   "id": "ddac0411",
   "metadata": {},
   "outputs": [],
   "source": []
  }
 ],
 "metadata": {
  "kernelspec": {
   "display_name": "Python 3 (ipykernel)",
   "language": "python",
   "name": "python3"
  },
  "language_info": {
   "codemirror_mode": {
    "name": "ipython",
    "version": 3
   },
   "file_extension": ".py",
   "mimetype": "text/x-python",
   "name": "python",
   "nbconvert_exporter": "python",
   "pygments_lexer": "ipython3",
   "version": "3.9.12"
  }
 },
 "nbformat": 4,
 "nbformat_minor": 5
}
