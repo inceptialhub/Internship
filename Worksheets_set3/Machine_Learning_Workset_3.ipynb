{
 "cells": [
  {
   "cell_type": "code",
   "execution_count": null,
   "id": "3239d74f",
   "metadata": {},
   "outputs": [],
   "source": [
    "1. Which of the following is an application of clustering?\n",
    "\n",
    "Ans :- D\n",
    "    \n",
    "    All of the above\n",
    "\n",
    "2. On which data type, we cannot perform cluster analysis?\n",
    "\n",
    "Ans :- D\n",
    "    \n",
    "    None\n",
    "\n",
    "3. Netflix’s movie recommendation system uses-\n",
    "\n",
    "Ans :- C\n",
    "    \n",
    "    c. Reinforcement learning and Unsupervised learning\n",
    "\n",
    "4. The final output of Hierarchical clustering is-\n",
    "\n",
    "Ans :- B\n",
    "    \n",
    "    The tree representing how close the data points are to each other\n",
    "\n",
    "5. Which of the step is not required for K-means clustering?\n",
    "\n",
    "Ans :- D\n",
    "    \n",
    "    None\n",
    "    \n",
    "6. Which is the following is wrong?\n",
    "\n",
    "Ans :- C\n",
    "    \n",
    "    k-nearest neighbour is same as k-means"
   ]
  },
  {
   "cell_type": "code",
   "execution_count": null,
   "id": "41b9de9a",
   "metadata": {},
   "outputs": [],
   "source": [
    "8. Which of the following are true?\n",
    "    1.Clustering analysis is negatively affected by multicollinearity of features\n",
    "    2.Clustering analysis is negatively affected by heteroscedasticity\n",
    "\n",
    "Ans :- A\n",
    "    \n",
    "    1 only\n",
    "    \n",
    "9. In the figure above, if you draw a horizontal line on y-axis for y=2. \n",
    "What will be the number of clusters formed?\n",
    "\n",
    "Ans :- A\n",
    "    \n",
    "    2"
   ]
  },
  {
   "cell_type": "code",
   "execution_count": null,
   "id": "94a07b18",
   "metadata": {},
   "outputs": [],
   "source": [
    "11. Given, six points with the following attributes:\n",
    "    \n",
    "    Which of the following clustering representations and dendrogram depicts the use of MIN or Single link proximity function in hierarchical clustering:\n",
    "        \n",
    "    \n",
    "    \n",
    "    Ans :- A\n",
    "        \n",
    "\n",
    "        \n",
    "        \n",
    "\n",
    "12    Which of the following clustering representations and dendrogram depicts the use of MAX or Complete link proximity function in hierarchical clustering.\n",
    "\n",
    "Ans :- C"
   ]
  },
  {
   "cell_type": "code",
   "execution_count": null,
   "id": "70f42dc1",
   "metadata": {},
   "outputs": [],
   "source": [
    "13. What is the importance of clustering?\n",
    "Ans :- \n",
    "    Clustering simplifies the management of large or rapidly growing systems.\n",
    "    Increased performance: Multiple machines provide greater processing power.\n",
    "    If one Intelligence Server in a cluster fails, the other Intelligence Servers in the cluster can pick up the workload."
   ]
  },
  {
   "cell_type": "code",
   "execution_count": null,
   "id": "299ac476",
   "metadata": {},
   "outputs": [],
   "source": [
    "14. How can I improve my clustering performance?"
   ]
  }
 ],
 "metadata": {
  "kernelspec": {
   "display_name": "Python 3 (ipykernel)",
   "language": "python",
   "name": "python3"
  },
  "language_info": {
   "codemirror_mode": {
    "name": "ipython",
    "version": 3
   },
   "file_extension": ".py",
   "mimetype": "text/x-python",
   "name": "python",
   "nbconvert_exporter": "python",
   "pygments_lexer": "ipython3",
   "version": "3.9.12"
  }
 },
 "nbformat": 4,
 "nbformat_minor": 5
}
