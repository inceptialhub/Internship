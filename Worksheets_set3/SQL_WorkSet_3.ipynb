{
 "cells": [
  {
   "cell_type": "code",
   "execution_count": null,
   "id": "4edf3102",
   "metadata": {},
   "outputs": [],
   "source": [
    "Q-1. Write SQL query to create table Customers.\n",
    "\n",
    "Ans :- \n",
    "CREATE TABLE `customers` (\n",
    "  `customerNumber` int(11) NOT NULL,`customerName` varchar(50) NOT NULL,\n",
    "  `contactLastName` varchar(50) NOT NULL,`contactFirstName` varchar(50) NOT NULL,`phone` varchar(50) NOT NULL,\n",
    "  `addressLine1` varchar(50) NOT NULL,`addressLine2` varchar(50) DEFAULT NULL,`city` varchar(50) NOT NULL,\n",
    "  `state` varchar(50) DEFAULT NULL,`postalCode` varchar(15) DEFAULT NULL,\n",
    "  `country` varchar(50) NOT NULL,`salesRepEmployeeNumber` int(11) DEFAULT NULL,`creditLimit` decimal(10,2) DEFAULT NULL,\n",
    "  PRIMARY KEY (`customerNumber`),KEY `salesRepEmployeeNumber` (`salesRepEmployeeNumber`),\n",
    "  CONSTRAINT `customers_ibfk_1` FOREIGN KEY (`salesRepEmployeeNumber`) REFERENCES `employees` (`employeeNumber`)\n",
    ")"
   ]
  },
  {
   "cell_type": "code",
   "execution_count": null,
   "id": "43ffaa58",
   "metadata": {},
   "outputs": [],
   "source": [
    "Q-2 Write SQL query to create table Orders.\n",
    "\n",
    "Ans :-\n",
    "    \n",
    "CREATE TABLE `orders` (\n",
    "  `orderNumber` int(11) NOT NULL,  `orderDate` date NOT NULL,  `requiredDate` date NOT NULL,\n",
    "  `shippedDate` date DEFAULT NULL,  `status` varchar(15) NOT NULL,`comments` text,`customerNumber` int(11) NOT NULL,\n",
    "  PRIMARY KEY (`orderNumber`),KEY `customerNumber` (`customerNumber`),\n",
    "  CONSTRAINT `orders_ibfk_1` FOREIGN KEY (`customerNumber`) REFERENCES `customers` (`customerNumber`)\n",
    ");"
   ]
  },
  {
   "cell_type": "code",
   "execution_count": null,
   "id": "98c60dbc",
   "metadata": {},
   "outputs": [],
   "source": [
    "Q-3 Write SQL query to show all the columns data from the Orders Table.\n",
    "\n",
    "Ans :- \n",
    "    \n",
    "    select * from orders;"
   ]
  },
  {
   "cell_type": "code",
   "execution_count": null,
   "id": "50a64d90",
   "metadata": {},
   "outputs": [],
   "source": [
    "Q-4 Write SQL query to show all the comments from the Orders Table.\n",
    "\n",
    "Ans :-\n",
    "    \n",
    "    select comments from orders;"
   ]
  },
  {
   "cell_type": "code",
   "execution_count": null,
   "id": "14dee39e",
   "metadata": {},
   "outputs": [],
   "source": [
    "Q-5 Write a SQL query to show orderDate and Total number of orders placed on that date, from Orders table.\n",
    "\n",
    "Ans :-\n",
    "    \n",
    "    SELECT orderDate, COUNT(orderNumber) FROM orders GROUP BY orderDate; "
   ]
  },
  {
   "cell_type": "code",
   "execution_count": null,
   "id": "074358e2",
   "metadata": {},
   "outputs": [],
   "source": [
    "Q-6 Write a SQL query to show employeNumber, lastName, firstName of all the employees from employees table.\n",
    "\n",
    "Ans :-\n",
    "    \n",
    "    select employeeNumber,firstName,lastName from employees;"
   ]
  },
  {
   "cell_type": "code",
   "execution_count": null,
   "id": "bef3d604",
   "metadata": {},
   "outputs": [],
   "source": [
    "Q-7 Write a SQL query to show all orderNumber, customerName of the person who placed the respective order.\n",
    "\n",
    "Ans :-\n",
    "    \n",
    "    SELECT orders.orderNumber, customers.customerName FROM orders, customers WHERE orders.customerNumber = customers.customerNumber; "
   ]
  },
  {
   "cell_type": "code",
   "execution_count": null,
   "id": "70b3a31a",
   "metadata": {},
   "outputs": [],
   "source": [
    "Q-8 Write a SQL query to show name of all the customers in one column and salerepemployee name in another column.\n",
    "\n",
    "Ans :-\n",
    "    \n",
    "    SELECT  CONCAT(customers.contactFirstName,' ',customers.contactLastname) as CustomerName,CONCAT(employees.firstName,' ',employees.lastname) as EmployeeName FROM customers,employees WHERE employees.employeeNumber = customers.salesRepEmployeeNumber; \n"
   ]
  },
  {
   "cell_type": "code",
   "execution_count": null,
   "id": "f9b6b6be",
   "metadata": {},
   "outputs": [],
   "source": [
    "Q-9 Write  a SQL query to show Date in one column and total payment amount of the payments made on that date from the payments table.\n",
    "\n",
    "Ans :-\n",
    "    \n",
    "    SELECT paymentDate, sum(amount) FROM payments GROUP BY paymentDate;"
   ]
  },
  {
   "cell_type": "code",
   "execution_count": null,
   "id": "e05a86ca",
   "metadata": {},
   "outputs": [],
   "source": [
    "Q-10 Write a SQL query to show all the products productName, MSRP, productDescription from the products table.\n",
    "\n",
    "Ans :-\n",
    "    \n",
    "    select productName,productDescription,MSRP from products;"
   ]
  },
  {
   "cell_type": "code",
   "execution_count": null,
   "id": "5563a664",
   "metadata": {},
   "outputs": [],
   "source": [
    "11. Write a SQL query to print the productName, productDescription of the most ordered product."
   ]
  },
  {
   "cell_type": "code",
   "execution_count": null,
   "id": "86049e83",
   "metadata": {},
   "outputs": [],
   "source": [
    "Q-12. Write a SQL query to print the city name where maximum number of orders were placed."
   ]
  },
  {
   "cell_type": "code",
   "execution_count": null,
   "id": "b87b7942",
   "metadata": {},
   "outputs": [],
   "source": [
    "Q-13. Write a SQL query to get the name of the state having maximum number of customers.\n",
    "\n",
    "Ans :-\n",
    "    \n",
    "    SELECT state, COUNT(customerNumber) FROM customers GROUP BY state;"
   ]
  }
 ],
 "metadata": {
  "kernelspec": {
   "display_name": "Python 3 (ipykernel)",
   "language": "python",
   "name": "python3"
  },
  "language_info": {
   "codemirror_mode": {
    "name": "ipython",
    "version": 3
   },
   "file_extension": ".py",
   "mimetype": "text/x-python",
   "name": "python",
   "nbconvert_exporter": "python",
   "pygments_lexer": "ipython3",
   "version": "3.9.12"
  }
 },
 "nbformat": 4,
 "nbformat_minor": 5
}
