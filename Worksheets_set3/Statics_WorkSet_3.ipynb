{
 "cells": [
  {
   "cell_type": "code",
   "execution_count": null,
   "id": "02988ce4",
   "metadata": {},
   "outputs": [],
   "source": [
    "1. Which of the following is the correct formula for total variation?\n",
    "\n",
    "Ans :- B\n",
    "    \n",
    "    Total Variation = Residual Variation + Regression Variation"
   ]
  },
  {
   "cell_type": "code",
   "execution_count": null,
   "id": "f0680282",
   "metadata": {},
   "outputs": [],
   "source": [
    "2. Collection of exchangeable binary outcomes for the same covariate data are called\n",
    "\n",
    "Ans :C\n",
    "    \n",
    "    Binomial"
   ]
  },
  {
   "cell_type": "code",
   "execution_count": null,
   "id": "5c39847c",
   "metadata": {},
   "outputs": [],
   "source": [
    "3. How many outcomes are possible with Bernoulli trial?\n",
    "\n",
    "Ans :-  A\n",
    "    \n",
    "    2"
   ]
  },
  {
   "cell_type": "code",
   "execution_count": null,
   "id": "fb84efb6",
   "metadata": {},
   "outputs": [],
   "source": [
    "4. If Ho is true and we reject it is called \n",
    "\n",
    "Ans :- A\n",
    "    \n",
    "    Type-I error"
   ]
  },
  {
   "cell_type": "code",
   "execution_count": null,
   "id": "c7214723",
   "metadata": {},
   "outputs": [],
   "source": [
    "5. Level of significance is also called:\n",
    "    \n",
    "Ans :- "
   ]
  },
  {
   "cell_type": "code",
   "execution_count": null,
   "id": "cf25bce0",
   "metadata": {},
   "outputs": [],
   "source": [
    "6. The chance of rejecting a true hypothesis decreases when sample size is:\n",
    "    \n",
    "Ans :- B \n",
    "    \n",
    "    Increase"
   ]
  },
  {
   "cell_type": "code",
   "execution_count": null,
   "id": "6f1881c4",
   "metadata": {},
   "outputs": [],
   "source": [
    "7. Which of the following testing is concerned with making decisions using data?\n",
    "\n",
    "Ans :- B\n",
    "    Hypothesis"
   ]
  },
  {
   "cell_type": "code",
   "execution_count": null,
   "id": "ae9d00ad",
   "metadata": {},
   "outputs": [],
   "source": [
    "8. What is the purpose of multiple testing in statistical inference?\n",
    "\n",
    "Ans :- D"
   ]
  },
  {
   "cell_type": "code",
   "execution_count": null,
   "id": "b97d8ab8",
   "metadata": {},
   "outputs": [],
   "source": [
    "9. Normalized data are centred at __ and have units equal to standard deviations of the original data\n",
    "\n",
    "And :- 0\n",
    "    "
   ]
  },
  {
   "cell_type": "code",
   "execution_count": null,
   "id": "3ca4e14b",
   "metadata": {},
   "outputs": [],
   "source": [
    "10. What Is Bayes' Theorem? \n",
    "\n",
    "Ans :- Bayes’ theorem describes the probability of occurrence of an event related to any condition. \n",
    "    It is also considered for the case of conditional probability. \n",
    "    Bayes theorem is also known as the formula for the probability of “causes”."
   ]
  },
  {
   "cell_type": "code",
   "execution_count": null,
   "id": "2ceb0e30",
   "metadata": {},
   "outputs": [],
   "source": [
    "11. What is z-score?\n",
    "\n",
    "Ans :-  \n",
    "    A z score is simply defined as the number of standard deviation from the mean. \n",
    "    The z-score can be calculated by subtracting mean by test value and dividing it by standard value"
   ]
  },
  {
   "cell_type": "code",
   "execution_count": null,
   "id": "88198fa4",
   "metadata": {},
   "outputs": [],
   "source": [
    "12. What is t-test?\n",
    "\n",
    "Ans :- The t-test is a test that is mainly used to compare the mean of two groups of samples. \n",
    "    It is meant for evaluating whether the means of the two \n",
    "    sets of data are statistically significantly different from each other."
   ]
  },
  {
   "cell_type": "code",
   "execution_count": null,
   "id": "1d4a965e",
   "metadata": {},
   "outputs": [],
   "source": [
    "13. What is percentile?\n",
    "\n",
    "Ans :-   \n",
    "    A  percentile  is a comparison score between a particular score and the scores of the rest of a group. \n",
    "    It shows the percentage of scores that a particular score surpassed."
   ]
  },
  {
   "cell_type": "code",
   "execution_count": null,
   "id": "71fb3b03",
   "metadata": {},
   "outputs": [],
   "source": [
    "14. What is ANOVA?\n",
    "\n",
    "Ans :- Analysis of variance (ANOVA) is an analysis tool used in statistics that splits \n",
    "an observed aggregate variability found inside a data set into two parts: systematic factors and random factors"
   ]
  },
  {
   "cell_type": "code",
   "execution_count": null,
   "id": "43239fb3",
   "metadata": {},
   "outputs": [],
   "source": [
    "15. How can ANOVA help?\n",
    "\n",
    "Ans  :- "
   ]
  },
  {
   "cell_type": "code",
   "execution_count": null,
   "id": "b1b34446",
   "metadata": {},
   "outputs": [],
   "source": []
  }
 ],
 "metadata": {
  "kernelspec": {
   "display_name": "Python 3 (ipykernel)",
   "language": "python",
   "name": "python3"
  },
  "language_info": {
   "codemirror_mode": {
    "name": "ipython",
    "version": 3
   },
   "file_extension": ".py",
   "mimetype": "text/x-python",
   "name": "python",
   "nbconvert_exporter": "python",
   "pygments_lexer": "ipython3",
   "version": "3.9.12"
  }
 },
 "nbformat": 4,
 "nbformat_minor": 5
}
