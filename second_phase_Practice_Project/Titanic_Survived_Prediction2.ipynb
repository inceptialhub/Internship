{
 "cells": [
  {
   "cell_type": "code",
   "execution_count": 1,
   "id": "af35bc4a",
   "metadata": {},
   "outputs": [
    {
     "name": "stderr",
     "output_type": "stream",
     "text": [
      "/Users/aditya/opt/anaconda3/envs/datascience_env/lib/python3.9/site-packages/scipy/__init__.py:146: UserWarning: A NumPy version >=1.16.5 and <1.23.0 is required for this version of SciPy (detected version 1.23.1\n",
      "  warnings.warn(f\"A NumPy version >={np_minversion} and <{np_maxversion}\"\n"
     ]
    }
   ],
   "source": [
    "import pandas as pd\n",
    "import numpy as np\n",
    "import pickle\n",
    "import seaborn as sns\n",
    "import matplotlib.pyplot as plt\n",
    "\n",
    "from sklearn.model_selection import train_test_split\n",
    "from sklearn.linear_model import LinearRegression\n",
    "from sklearn.metrics import r2_score\n",
    "\n",
    "from sklearn.preprocessing import OneHotEncoder\n",
    "from sklearn.compose import make_column_transformer\n",
    "from sklearn.pipeline import make_pipeline"
   ]
  },
  {
   "cell_type": "markdown",
   "id": "94377740",
   "metadata": {},
   "source": [
    "# Data Collection and Processing"
   ]
  },
  {
   "cell_type": "code",
   "execution_count": 2,
   "id": "e0545809",
   "metadata": {},
   "outputs": [
    {
     "data": {
      "text/html": [
       "<div>\n",
       "<style scoped>\n",
       "    .dataframe tbody tr th:only-of-type {\n",
       "        vertical-align: middle;\n",
       "    }\n",
       "\n",
       "    .dataframe tbody tr th {\n",
       "        vertical-align: top;\n",
       "    }\n",
       "\n",
       "    .dataframe thead th {\n",
       "        text-align: right;\n",
       "    }\n",
       "</style>\n",
       "<table border=\"1\" class=\"dataframe\">\n",
       "  <thead>\n",
       "    <tr style=\"text-align: right;\">\n",
       "      <th></th>\n",
       "      <th>PassengerId</th>\n",
       "      <th>Survived</th>\n",
       "      <th>Pclass</th>\n",
       "      <th>Name</th>\n",
       "      <th>Sex</th>\n",
       "      <th>Age</th>\n",
       "      <th>SibSp</th>\n",
       "      <th>Parch</th>\n",
       "      <th>Ticket</th>\n",
       "      <th>Fare</th>\n",
       "      <th>Cabin</th>\n",
       "      <th>Embarked</th>\n",
       "    </tr>\n",
       "  </thead>\n",
       "  <tbody>\n",
       "    <tr>\n",
       "      <th>0</th>\n",
       "      <td>1</td>\n",
       "      <td>0</td>\n",
       "      <td>3</td>\n",
       "      <td>Braund, Mr. Owen Harris</td>\n",
       "      <td>male</td>\n",
       "      <td>22.0</td>\n",
       "      <td>1</td>\n",
       "      <td>0</td>\n",
       "      <td>A/5 21171</td>\n",
       "      <td>7.2500</td>\n",
       "      <td>NaN</td>\n",
       "      <td>S</td>\n",
       "    </tr>\n",
       "    <tr>\n",
       "      <th>1</th>\n",
       "      <td>2</td>\n",
       "      <td>1</td>\n",
       "      <td>1</td>\n",
       "      <td>Cumings, Mrs. John Bradley (Florence Briggs Th...</td>\n",
       "      <td>female</td>\n",
       "      <td>38.0</td>\n",
       "      <td>1</td>\n",
       "      <td>0</td>\n",
       "      <td>PC 17599</td>\n",
       "      <td>71.2833</td>\n",
       "      <td>C85</td>\n",
       "      <td>C</td>\n",
       "    </tr>\n",
       "    <tr>\n",
       "      <th>2</th>\n",
       "      <td>3</td>\n",
       "      <td>1</td>\n",
       "      <td>3</td>\n",
       "      <td>Heikkinen, Miss. Laina</td>\n",
       "      <td>female</td>\n",
       "      <td>26.0</td>\n",
       "      <td>0</td>\n",
       "      <td>0</td>\n",
       "      <td>STON/O2. 3101282</td>\n",
       "      <td>7.9250</td>\n",
       "      <td>NaN</td>\n",
       "      <td>S</td>\n",
       "    </tr>\n",
       "    <tr>\n",
       "      <th>3</th>\n",
       "      <td>4</td>\n",
       "      <td>1</td>\n",
       "      <td>1</td>\n",
       "      <td>Futrelle, Mrs. Jacques Heath (Lily May Peel)</td>\n",
       "      <td>female</td>\n",
       "      <td>35.0</td>\n",
       "      <td>1</td>\n",
       "      <td>0</td>\n",
       "      <td>113803</td>\n",
       "      <td>53.1000</td>\n",
       "      <td>C123</td>\n",
       "      <td>S</td>\n",
       "    </tr>\n",
       "    <tr>\n",
       "      <th>4</th>\n",
       "      <td>5</td>\n",
       "      <td>0</td>\n",
       "      <td>3</td>\n",
       "      <td>Allen, Mr. William Henry</td>\n",
       "      <td>male</td>\n",
       "      <td>35.0</td>\n",
       "      <td>0</td>\n",
       "      <td>0</td>\n",
       "      <td>373450</td>\n",
       "      <td>8.0500</td>\n",
       "      <td>NaN</td>\n",
       "      <td>S</td>\n",
       "    </tr>\n",
       "  </tbody>\n",
       "</table>\n",
       "</div>"
      ],
      "text/plain": [
       "   PassengerId  Survived  Pclass  \\\n",
       "0            1         0       3   \n",
       "1            2         1       1   \n",
       "2            3         1       3   \n",
       "3            4         1       1   \n",
       "4            5         0       3   \n",
       "\n",
       "                                                Name     Sex   Age  SibSp  \\\n",
       "0                            Braund, Mr. Owen Harris    male  22.0      1   \n",
       "1  Cumings, Mrs. John Bradley (Florence Briggs Th...  female  38.0      1   \n",
       "2                             Heikkinen, Miss. Laina  female  26.0      0   \n",
       "3       Futrelle, Mrs. Jacques Heath (Lily May Peel)  female  35.0      1   \n",
       "4                           Allen, Mr. William Henry    male  35.0      0   \n",
       "\n",
       "   Parch            Ticket     Fare Cabin Embarked  \n",
       "0      0         A/5 21171   7.2500   NaN        S  \n",
       "1      0          PC 17599  71.2833   C85        C  \n",
       "2      0  STON/O2. 3101282   7.9250   NaN        S  \n",
       "3      0            113803  53.1000  C123        S  \n",
       "4      0            373450   8.0500   NaN        S  "
      ]
     },
     "execution_count": 2,
     "metadata": {},
     "output_type": "execute_result"
    }
   ],
   "source": [
    "# Load tha data and print first five rows\n",
    "titanic_data=pd.read_csv(\"https://raw.githubusercontent.com/dsrscientist/dataset1/master/titanic_train.csv\")\n",
    "titanic_data.head()"
   ]
  },
  {
   "cell_type": "code",
   "execution_count": 3,
   "id": "09221c42",
   "metadata": {},
   "outputs": [
    {
     "data": {
      "text/plain": [
       "(891, 12)"
      ]
     },
     "execution_count": 3,
     "metadata": {},
     "output_type": "execute_result"
    }
   ],
   "source": [
    "# Show the number of rows and columns\n",
    "titanic_data.shape"
   ]
  },
  {
   "cell_type": "markdown",
   "id": "6c939394",
   "metadata": {},
   "source": [
    "# EDA"
   ]
  },
  {
   "cell_type": "code",
   "execution_count": 4,
   "id": "061704d5",
   "metadata": {},
   "outputs": [
    {
     "name": "stdout",
     "output_type": "stream",
     "text": [
      "<class 'pandas.core.frame.DataFrame'>\n",
      "RangeIndex: 891 entries, 0 to 890\n",
      "Data columns (total 12 columns):\n",
      " #   Column       Non-Null Count  Dtype  \n",
      "---  ------       --------------  -----  \n",
      " 0   PassengerId  891 non-null    int64  \n",
      " 1   Survived     891 non-null    int64  \n",
      " 2   Pclass       891 non-null    int64  \n",
      " 3   Name         891 non-null    object \n",
      " 4   Sex          891 non-null    object \n",
      " 5   Age          714 non-null    float64\n",
      " 6   SibSp        891 non-null    int64  \n",
      " 7   Parch        891 non-null    int64  \n",
      " 8   Ticket       891 non-null    object \n",
      " 9   Fare         891 non-null    float64\n",
      " 10  Cabin        204 non-null    object \n",
      " 11  Embarked     889 non-null    object \n",
      "dtypes: float64(2), int64(5), object(5)\n",
      "memory usage: 83.7+ KB\n"
     ]
    }
   ],
   "source": [
    "# some basic information about dataset\n",
    "titanic_data.info()"
   ]
  },
  {
   "cell_type": "code",
   "execution_count": 5,
   "id": "1e09a6d2",
   "metadata": {},
   "outputs": [
    {
     "data": {
      "text/plain": [
       "PassengerId      0\n",
       "Survived         0\n",
       "Pclass           0\n",
       "Name             0\n",
       "Sex              0\n",
       "Age            177\n",
       "SibSp            0\n",
       "Parch            0\n",
       "Ticket           0\n",
       "Fare             0\n",
       "Cabin          687\n",
       "Embarked         2\n",
       "dtype: int64"
      ]
     },
     "execution_count": 5,
     "metadata": {},
     "output_type": "execute_result"
    }
   ],
   "source": [
    "# Check number of missin value in each column \n",
    "titanic_data.isnull().sum()"
   ]
  },
  {
   "cell_type": "markdown",
   "id": "880fc351",
   "metadata": {},
   "source": [
    "# Handling the missing value"
   ]
  },
  {
   "cell_type": "code",
   "execution_count": 6,
   "id": "81ae8fdf",
   "metadata": {},
   "outputs": [],
   "source": [
    "## Drop the cabin column from dataset\n",
    "titanic_data=titanic_data.drop('Cabin',axis=1)"
   ]
  },
  {
   "cell_type": "code",
   "execution_count": 7,
   "id": "ef41e089",
   "metadata": {},
   "outputs": [],
   "source": [
    "titanic_data['Age'].fillna(titanic_data['Age'].mean(),inplace=True)"
   ]
  },
  {
   "cell_type": "code",
   "execution_count": 8,
   "id": "d0953672",
   "metadata": {},
   "outputs": [],
   "source": [
    "# replacing the missing value in embarked column with mode value of embarked\n",
    "titanic_data.Embarked.mode()[0]\n",
    "titanic_data['Embarked'].fillna(titanic_data.Embarked.mode()[0],inplace=True)"
   ]
  },
  {
   "cell_type": "code",
   "execution_count": 9,
   "id": "c5c6beda",
   "metadata": {},
   "outputs": [
    {
     "data": {
      "text/plain": [
       "PassengerId    0\n",
       "Survived       0\n",
       "Pclass         0\n",
       "Name           0\n",
       "Sex            0\n",
       "Age            0\n",
       "SibSp          0\n",
       "Parch          0\n",
       "Ticket         0\n",
       "Fare           0\n",
       "Embarked       0\n",
       "dtype: int64"
      ]
     },
     "execution_count": 9,
     "metadata": {},
     "output_type": "execute_result"
    }
   ],
   "source": [
    "# Chck the number of missing value of each column\n",
    "titanic_data.isnull().sum()"
   ]
  },
  {
   "cell_type": "code",
   "execution_count": 10,
   "id": "7a2bdcf4",
   "metadata": {},
   "outputs": [],
   "source": [
    "# Observation :-"
   ]
  },
  {
   "cell_type": "code",
   "execution_count": 11,
   "id": "a0bf5351",
   "metadata": {},
   "outputs": [],
   "source": [
    "# Data Analysis"
   ]
  },
  {
   "cell_type": "code",
   "execution_count": 12,
   "id": "14f17040",
   "metadata": {},
   "outputs": [
    {
     "data": {
      "text/html": [
       "<div>\n",
       "<style scoped>\n",
       "    .dataframe tbody tr th:only-of-type {\n",
       "        vertical-align: middle;\n",
       "    }\n",
       "\n",
       "    .dataframe tbody tr th {\n",
       "        vertical-align: top;\n",
       "    }\n",
       "\n",
       "    .dataframe thead th {\n",
       "        text-align: right;\n",
       "    }\n",
       "</style>\n",
       "<table border=\"1\" class=\"dataframe\">\n",
       "  <thead>\n",
       "    <tr style=\"text-align: right;\">\n",
       "      <th></th>\n",
       "      <th>PassengerId</th>\n",
       "      <th>Survived</th>\n",
       "      <th>Pclass</th>\n",
       "      <th>Age</th>\n",
       "      <th>SibSp</th>\n",
       "      <th>Parch</th>\n",
       "      <th>Fare</th>\n",
       "    </tr>\n",
       "  </thead>\n",
       "  <tbody>\n",
       "    <tr>\n",
       "      <th>count</th>\n",
       "      <td>891.000000</td>\n",
       "      <td>891.000000</td>\n",
       "      <td>891.000000</td>\n",
       "      <td>891.000000</td>\n",
       "      <td>891.000000</td>\n",
       "      <td>891.000000</td>\n",
       "      <td>891.000000</td>\n",
       "    </tr>\n",
       "    <tr>\n",
       "      <th>mean</th>\n",
       "      <td>446.000000</td>\n",
       "      <td>0.383838</td>\n",
       "      <td>2.308642</td>\n",
       "      <td>29.699118</td>\n",
       "      <td>0.523008</td>\n",
       "      <td>0.381594</td>\n",
       "      <td>32.204208</td>\n",
       "    </tr>\n",
       "    <tr>\n",
       "      <th>std</th>\n",
       "      <td>257.353842</td>\n",
       "      <td>0.486592</td>\n",
       "      <td>0.836071</td>\n",
       "      <td>13.002015</td>\n",
       "      <td>1.102743</td>\n",
       "      <td>0.806057</td>\n",
       "      <td>49.693429</td>\n",
       "    </tr>\n",
       "    <tr>\n",
       "      <th>min</th>\n",
       "      <td>1.000000</td>\n",
       "      <td>0.000000</td>\n",
       "      <td>1.000000</td>\n",
       "      <td>0.420000</td>\n",
       "      <td>0.000000</td>\n",
       "      <td>0.000000</td>\n",
       "      <td>0.000000</td>\n",
       "    </tr>\n",
       "    <tr>\n",
       "      <th>25%</th>\n",
       "      <td>223.500000</td>\n",
       "      <td>0.000000</td>\n",
       "      <td>2.000000</td>\n",
       "      <td>22.000000</td>\n",
       "      <td>0.000000</td>\n",
       "      <td>0.000000</td>\n",
       "      <td>7.910400</td>\n",
       "    </tr>\n",
       "    <tr>\n",
       "      <th>50%</th>\n",
       "      <td>446.000000</td>\n",
       "      <td>0.000000</td>\n",
       "      <td>3.000000</td>\n",
       "      <td>29.699118</td>\n",
       "      <td>0.000000</td>\n",
       "      <td>0.000000</td>\n",
       "      <td>14.454200</td>\n",
       "    </tr>\n",
       "    <tr>\n",
       "      <th>75%</th>\n",
       "      <td>668.500000</td>\n",
       "      <td>1.000000</td>\n",
       "      <td>3.000000</td>\n",
       "      <td>35.000000</td>\n",
       "      <td>1.000000</td>\n",
       "      <td>0.000000</td>\n",
       "      <td>31.000000</td>\n",
       "    </tr>\n",
       "    <tr>\n",
       "      <th>max</th>\n",
       "      <td>891.000000</td>\n",
       "      <td>1.000000</td>\n",
       "      <td>3.000000</td>\n",
       "      <td>80.000000</td>\n",
       "      <td>8.000000</td>\n",
       "      <td>6.000000</td>\n",
       "      <td>512.329200</td>\n",
       "    </tr>\n",
       "  </tbody>\n",
       "</table>\n",
       "</div>"
      ],
      "text/plain": [
       "       PassengerId    Survived      Pclass         Age       SibSp  \\\n",
       "count   891.000000  891.000000  891.000000  891.000000  891.000000   \n",
       "mean    446.000000    0.383838    2.308642   29.699118    0.523008   \n",
       "std     257.353842    0.486592    0.836071   13.002015    1.102743   \n",
       "min       1.000000    0.000000    1.000000    0.420000    0.000000   \n",
       "25%     223.500000    0.000000    2.000000   22.000000    0.000000   \n",
       "50%     446.000000    0.000000    3.000000   29.699118    0.000000   \n",
       "75%     668.500000    1.000000    3.000000   35.000000    1.000000   \n",
       "max     891.000000    1.000000    3.000000   80.000000    8.000000   \n",
       "\n",
       "            Parch        Fare  \n",
       "count  891.000000  891.000000  \n",
       "mean     0.381594   32.204208  \n",
       "std      0.806057   49.693429  \n",
       "min      0.000000    0.000000  \n",
       "25%      0.000000    7.910400  \n",
       "50%      0.000000   14.454200  \n",
       "75%      0.000000   31.000000  \n",
       "max      6.000000  512.329200  "
      ]
     },
     "execution_count": 12,
     "metadata": {},
     "output_type": "execute_result"
    }
   ],
   "source": [
    "titanic_data.describe()"
   ]
  },
  {
   "cell_type": "code",
   "execution_count": 13,
   "id": "c8b683ec",
   "metadata": {},
   "outputs": [],
   "source": [
    "# Encoding the categorical column"
   ]
  },
  {
   "cell_type": "code",
   "execution_count": 14,
   "id": "1a641272",
   "metadata": {},
   "outputs": [
    {
     "data": {
      "text/plain": [
       "S    646\n",
       "C    168\n",
       "Q     77\n",
       "Name: Embarked, dtype: int64"
      ]
     },
     "execution_count": 14,
     "metadata": {},
     "output_type": "execute_result"
    }
   ],
   "source": [
    "titanic_data['Embarked'].value_counts()"
   ]
  },
  {
   "cell_type": "code",
   "execution_count": 15,
   "id": "39f3967d",
   "metadata": {},
   "outputs": [
    {
     "data": {
      "text/plain": [
       "male      577\n",
       "female    314\n",
       "Name: Sex, dtype: int64"
      ]
     },
     "execution_count": 15,
     "metadata": {},
     "output_type": "execute_result"
    }
   ],
   "source": [
    "titanic_data['Sex'].value_counts()"
   ]
  },
  {
   "cell_type": "code",
   "execution_count": 16,
   "id": "ad895bd2",
   "metadata": {},
   "outputs": [],
   "source": [
    "# titanic_data.replace({'Sex':{'male':0,'female':1},'Embarked':{'S':0,'C':1,'Q':2}})\n",
    "titanic_data.replace({'Sex':{'male':0,'female':1},'Embarked':{'S':0,'C':1,'Q':2}},inplace=True)"
   ]
  },
  {
   "cell_type": "markdown",
   "id": "4bc5682e",
   "metadata": {},
   "source": [
    "# seprate the column in fearue and target"
   ]
  },
  {
   "cell_type": "code",
   "execution_count": 17,
   "id": "a5e29347",
   "metadata": {},
   "outputs": [],
   "source": [
    "X=titanic_data.drop(columns=['PassengerId','Name','Ticket','Survived','Sex','Age','SibSp','Parch','Fare'],axis=1)\n",
    "Y=titanic_data['Survived']"
   ]
  },
  {
   "cell_type": "code",
   "execution_count": 18,
   "id": "3b2ce3d6",
   "metadata": {},
   "outputs": [],
   "source": [
    "# Spliting the data into train and test "
   ]
  },
  {
   "cell_type": "code",
   "execution_count": 19,
   "id": "faa216f8",
   "metadata": {},
   "outputs": [],
   "source": [
    "X_train,X_test,Y_train,Y_test=train_test_split(X,Y,random_state=2,test_size=0.2)"
   ]
  },
  {
   "cell_type": "code",
   "execution_count": 20,
   "id": "728d9511",
   "metadata": {},
   "outputs": [],
   "source": [
    "# print(X.shape),\n",
    "# print(X_train.shape),\n",
    "# print(Y_train.shape)"
   ]
  },
  {
   "cell_type": "code",
   "execution_count": 21,
   "id": "6dc53a27",
   "metadata": {},
   "outputs": [],
   "source": [
    "# print(Y.shape,Y_train.shape,Y_test.shape)"
   ]
  },
  {
   "cell_type": "code",
   "execution_count": 22,
   "id": "4c81ea9a",
   "metadata": {},
   "outputs": [
    {
     "data": {
      "text/html": [
       "<div>\n",
       "<style scoped>\n",
       "    .dataframe tbody tr th:only-of-type {\n",
       "        vertical-align: middle;\n",
       "    }\n",
       "\n",
       "    .dataframe tbody tr th {\n",
       "        vertical-align: top;\n",
       "    }\n",
       "\n",
       "    .dataframe thead th {\n",
       "        text-align: right;\n",
       "    }\n",
       "</style>\n",
       "<table border=\"1\" class=\"dataframe\">\n",
       "  <thead>\n",
       "    <tr style=\"text-align: right;\">\n",
       "      <th></th>\n",
       "      <th>Pclass</th>\n",
       "      <th>Embarked</th>\n",
       "    </tr>\n",
       "  </thead>\n",
       "  <tbody>\n",
       "    <tr>\n",
       "      <th>0</th>\n",
       "      <td>3</td>\n",
       "      <td>0</td>\n",
       "    </tr>\n",
       "    <tr>\n",
       "      <th>1</th>\n",
       "      <td>1</td>\n",
       "      <td>1</td>\n",
       "    </tr>\n",
       "    <tr>\n",
       "      <th>2</th>\n",
       "      <td>3</td>\n",
       "      <td>0</td>\n",
       "    </tr>\n",
       "    <tr>\n",
       "      <th>3</th>\n",
       "      <td>1</td>\n",
       "      <td>0</td>\n",
       "    </tr>\n",
       "    <tr>\n",
       "      <th>4</th>\n",
       "      <td>3</td>\n",
       "      <td>0</td>\n",
       "    </tr>\n",
       "    <tr>\n",
       "      <th>...</th>\n",
       "      <td>...</td>\n",
       "      <td>...</td>\n",
       "    </tr>\n",
       "    <tr>\n",
       "      <th>886</th>\n",
       "      <td>2</td>\n",
       "      <td>0</td>\n",
       "    </tr>\n",
       "    <tr>\n",
       "      <th>887</th>\n",
       "      <td>1</td>\n",
       "      <td>0</td>\n",
       "    </tr>\n",
       "    <tr>\n",
       "      <th>888</th>\n",
       "      <td>3</td>\n",
       "      <td>0</td>\n",
       "    </tr>\n",
       "    <tr>\n",
       "      <th>889</th>\n",
       "      <td>1</td>\n",
       "      <td>1</td>\n",
       "    </tr>\n",
       "    <tr>\n",
       "      <th>890</th>\n",
       "      <td>3</td>\n",
       "      <td>2</td>\n",
       "    </tr>\n",
       "  </tbody>\n",
       "</table>\n",
       "<p>891 rows × 2 columns</p>\n",
       "</div>"
      ],
      "text/plain": [
       "     Pclass  Embarked\n",
       "0         3         0\n",
       "1         1         1\n",
       "2         3         0\n",
       "3         1         0\n",
       "4         3         0\n",
       "..      ...       ...\n",
       "886       2         0\n",
       "887       1         0\n",
       "888       3         0\n",
       "889       1         1\n",
       "890       3         2\n",
       "\n",
       "[891 rows x 2 columns]"
      ]
     },
     "execution_count": 22,
     "metadata": {},
     "output_type": "execute_result"
    }
   ],
   "source": [
    "X"
   ]
  },
  {
   "cell_type": "code",
   "execution_count": 23,
   "id": "2c04d012",
   "metadata": {},
   "outputs": [
    {
     "name": "stdout",
     "output_type": "stream",
     "text": [
      "0      0\n",
      "1      1\n",
      "2      1\n",
      "3      1\n",
      "4      0\n",
      "      ..\n",
      "886    0\n",
      "887    1\n",
      "888    0\n",
      "889    1\n",
      "890    0\n",
      "Name: Survived, Length: 891, dtype: int64\n"
     ]
    }
   ],
   "source": [
    "print(Y)\n",
    "# column=['Pclass',  'Embarked']"
   ]
  },
  {
   "cell_type": "markdown",
   "id": "a6fabe2a",
   "metadata": {},
   "source": [
    "# Model Building"
   ]
  },
  {
   "cell_type": "code",
   "execution_count": 24,
   "id": "8e2b3d14",
   "metadata": {},
   "outputs": [],
   "source": [
    "LR_Model=LinearRegression()\n",
    "pipe=LR_Model.fit(X_train,Y_train)"
   ]
  },
  {
   "cell_type": "code",
   "execution_count": 25,
   "id": "976993be",
   "metadata": {},
   "outputs": [
    {
     "data": {
      "text/plain": [
       "array([0.67517483, 0.19919231, 0.19919231, 0.19919231, 0.19919231,\n",
       "       0.39435408, 0.19919231, 0.28485129, 0.58951585, 0.19919231,\n",
       "       0.39435408, 0.67517483, 0.19919231, 0.19919231, 0.67517483,\n",
       "       0.58951585, 0.19919231, 0.19919231, 0.39435408, 0.37051028,\n",
       "       0.67517483, 0.39435408, 0.39435408, 0.67517483, 0.39435408,\n",
       "       0.58951585, 0.19919231, 0.19919231, 0.67517483, 0.19919231,\n",
       "       0.19919231, 0.67517483, 0.58951585, 0.19919231, 0.19919231,\n",
       "       0.19919231, 0.58951585, 0.19919231, 0.37051028, 0.67517483,\n",
       "       0.19919231, 0.19919231, 0.39435408, 0.37051028, 0.39435408,\n",
       "       0.19919231, 0.19919231, 0.58951585, 0.37051028, 0.58951585,\n",
       "       0.19919231, 0.28485129, 0.58951585, 0.56567205, 0.39435408,\n",
       "       0.39435408, 0.58951585, 0.28485129, 0.56567205, 0.39435408,\n",
       "       0.67517483, 0.58951585, 0.39435408, 0.67517483, 0.67517483,\n",
       "       0.39435408, 0.39435408, 0.19919231, 0.19919231, 0.39435408,\n",
       "       0.58951585, 0.37051028, 0.19919231, 0.39435408, 0.48001306,\n",
       "       0.19919231, 0.19919231, 0.19919231, 0.19919231, 0.19919231,\n",
       "       0.19919231, 0.58951585, 0.48001306, 0.19919231, 0.67517483,\n",
       "       0.58951585, 0.19919231, 0.28485129, 0.19919231, 0.19919231,\n",
       "       0.39435408, 0.19919231, 0.19919231, 0.67517483, 0.19919231,\n",
       "       0.19919231, 0.19919231, 0.67517483, 0.39435408, 0.58951585,\n",
       "       0.58951585, 0.67517483, 0.39435408, 0.19919231, 0.19919231,\n",
       "       0.19919231, 0.19919231, 0.67517483, 0.19919231, 0.39435408,\n",
       "       0.19919231, 0.39435408, 0.39435408, 0.19919231, 0.37051028,\n",
       "       0.67517483, 0.19919231, 0.37051028, 0.37051028, 0.19919231,\n",
       "       0.19919231, 0.58951585, 0.19919231, 0.28485129, 0.67517483,\n",
       "       0.19919231, 0.67517483, 0.19919231, 0.39435408, 0.19919231,\n",
       "       0.39435408, 0.28485129, 0.37051028, 0.37051028, 0.39435408,\n",
       "       0.37051028, 0.58951585, 0.39435408, 0.67517483, 0.19919231,\n",
       "       0.39435408, 0.58951585, 0.58951585, 0.28485129, 0.19919231,\n",
       "       0.48001306, 0.58951585, 0.19919231, 0.58951585, 0.19919231,\n",
       "       0.19919231, 0.39435408, 0.19919231, 0.28485129, 0.37051028,\n",
       "       0.19919231, 0.19919231, 0.19919231, 0.28485129, 0.19919231,\n",
       "       0.19919231, 0.37051028, 0.39435408, 0.39435408, 0.39435408,\n",
       "       0.39435408, 0.39435408, 0.19919231, 0.37051028, 0.19919231,\n",
       "       0.39435408, 0.19919231, 0.67517483, 0.58951585, 0.39435408,\n",
       "       0.39435408, 0.19919231, 0.19919231, 0.39435408, 0.19919231,\n",
       "       0.39435408, 0.39435408, 0.39435408, 0.58951585, 0.19919231,\n",
       "       0.67517483, 0.19919231, 0.19919231, 0.28485129, 0.39435408,\n",
       "       0.67517483, 0.67517483, 0.67517483, 0.19919231, 0.28485129,\n",
       "       0.58951585, 0.58951585, 0.19919231, 0.67517483, 0.37051028,\n",
       "       0.58951585, 0.19919231, 0.58951585, 0.19919231, 0.39435408,\n",
       "       0.19919231, 0.19919231, 0.39435408, 0.58951585, 0.19919231,\n",
       "       0.39435408, 0.48001306, 0.39435408, 0.67517483, 0.58951585,\n",
       "       0.19919231, 0.28485129, 0.19919231, 0.58951585, 0.28485129,\n",
       "       0.37051028, 0.58951585, 0.28485129, 0.39435408, 0.19919231,\n",
       "       0.28485129, 0.67517483, 0.67517483, 0.67517483, 0.19919231,\n",
       "       0.19919231, 0.58951585, 0.39435408, 0.19919231, 0.39435408,\n",
       "       0.37051028, 0.39435408, 0.39435408, 0.28485129, 0.37051028,\n",
       "       0.28485129, 0.19919231, 0.19919231, 0.67517483, 0.58951585,\n",
       "       0.19919231, 0.19919231, 0.19919231, 0.37051028, 0.37051028,\n",
       "       0.19919231, 0.37051028, 0.19919231, 0.28485129, 0.37051028,\n",
       "       0.67517483, 0.58951585, 0.19919231, 0.19919231, 0.39435408,\n",
       "       0.28485129, 0.19919231, 0.58951585, 0.19919231, 0.19919231,\n",
       "       0.37051028, 0.19919231, 0.67517483, 0.19919231, 0.28485129,\n",
       "       0.19919231, 0.19919231, 0.19919231, 0.39435408, 0.58951585,\n",
       "       0.58951585, 0.39435408, 0.39435408, 0.39435408, 0.19919231,\n",
       "       0.19919231, 0.39435408, 0.19919231, 0.28485129, 0.58951585,\n",
       "       0.58951585, 0.37051028, 0.28485129, 0.39435408, 0.48001306,\n",
       "       0.19919231, 0.19919231, 0.19919231, 0.19919231, 0.19919231,\n",
       "       0.39435408, 0.28485129, 0.19919231, 0.19919231, 0.39435408,\n",
       "       0.19919231, 0.37051028, 0.37051028, 0.28485129, 0.37051028,\n",
       "       0.58951585, 0.19919231, 0.58951585, 0.19919231, 0.19919231,\n",
       "       0.39435408, 0.37051028, 0.28485129, 0.28485129, 0.39435408,\n",
       "       0.28485129, 0.19919231, 0.19919231, 0.58951585, 0.67517483,\n",
       "       0.39435408, 0.28485129, 0.39435408, 0.19919231, 0.19919231,\n",
       "       0.37051028, 0.58951585, 0.19919231, 0.39435408, 0.67517483,\n",
       "       0.19919231, 0.19919231, 0.19919231, 0.39435408, 0.67517483,\n",
       "       0.39435408, 0.19919231, 0.19919231, 0.67517483, 0.58951585,\n",
       "       0.19919231, 0.58951585, 0.19919231, 0.19919231, 0.19919231,\n",
       "       0.39435408, 0.58951585, 0.19919231, 0.58951585, 0.19919231,\n",
       "       0.39435408, 0.67517483, 0.19919231, 0.39435408, 0.19919231,\n",
       "       0.19919231, 0.39435408, 0.19919231, 0.67517483, 0.37051028,\n",
       "       0.39435408, 0.19919231, 0.58951585, 0.39435408, 0.39435408,\n",
       "       0.58951585, 0.58951585, 0.67517483, 0.48001306, 0.58951585,\n",
       "       0.28485129, 0.19919231, 0.58951585, 0.39435408, 0.37051028,\n",
       "       0.37051028, 0.28485129, 0.67517483, 0.19919231, 0.58951585,\n",
       "       0.37051028, 0.37051028, 0.19919231, 0.28485129, 0.39435408,\n",
       "       0.28485129, 0.58951585, 0.39435408, 0.19919231, 0.39435408,\n",
       "       0.19919231, 0.19919231, 0.19919231, 0.19919231, 0.58951585,\n",
       "       0.39435408, 0.19919231, 0.19919231, 0.67517483, 0.48001306,\n",
       "       0.28485129, 0.19919231, 0.39435408, 0.19919231, 0.67517483,\n",
       "       0.58951585, 0.19919231, 0.58951585, 0.67517483, 0.48001306,\n",
       "       0.67517483, 0.28485129, 0.37051028, 0.37051028, 0.58951585,\n",
       "       0.19919231, 0.39435408, 0.58951585, 0.39435408, 0.39435408,\n",
       "       0.58951585, 0.19919231, 0.37051028, 0.19919231, 0.37051028,\n",
       "       0.37051028, 0.28485129, 0.37051028, 0.19919231, 0.58951585,\n",
       "       0.19919231, 0.19919231, 0.19919231, 0.19919231, 0.58951585,\n",
       "       0.56567205, 0.37051028, 0.39435408, 0.19919231, 0.19919231,\n",
       "       0.58951585, 0.37051028, 0.39435408, 0.28485129, 0.28485129,\n",
       "       0.19919231, 0.37051028, 0.28485129, 0.39435408, 0.39435408,\n",
       "       0.19919231, 0.19919231, 0.39435408, 0.28485129, 0.19919231,\n",
       "       0.19919231, 0.58951585, 0.19919231, 0.67517483, 0.37051028,\n",
       "       0.19919231, 0.39435408, 0.28485129, 0.19919231, 0.19919231,\n",
       "       0.58951585, 0.19919231, 0.39435408, 0.19919231, 0.58951585,\n",
       "       0.19919231, 0.19919231, 0.58951585, 0.19919231, 0.19919231,\n",
       "       0.19919231, 0.37051028, 0.58951585, 0.19919231, 0.37051028,\n",
       "       0.19919231, 0.48001306, 0.67517483, 0.39435408, 0.19919231,\n",
       "       0.67517483, 0.58951585, 0.19919231, 0.37051028, 0.39435408,\n",
       "       0.39435408, 0.67517483, 0.19919231, 0.37051028, 0.19919231,\n",
       "       0.19919231, 0.37051028, 0.37051028, 0.58951585, 0.58951585,\n",
       "       0.19919231, 0.28485129, 0.19919231, 0.39435408, 0.39435408,\n",
       "       0.19919231, 0.37051028, 0.19919231, 0.48001306, 0.19919231,\n",
       "       0.19919231, 0.19919231, 0.67517483, 0.58951585, 0.19919231,\n",
       "       0.19919231, 0.37051028, 0.28485129, 0.58951585, 0.39435408,\n",
       "       0.28485129, 0.39435408, 0.48001306, 0.19919231, 0.19919231,\n",
       "       0.58951585, 0.39435408, 0.19919231, 0.37051028, 0.58951585,\n",
       "       0.58951585, 0.19919231, 0.19919231, 0.37051028, 0.37051028,\n",
       "       0.48001306, 0.39435408, 0.39435408, 0.48001306, 0.58951585,\n",
       "       0.48001306, 0.39435408, 0.28485129, 0.39435408, 0.28485129,\n",
       "       0.19919231, 0.19919231, 0.39435408, 0.19919231, 0.67517483,\n",
       "       0.19919231, 0.19919231, 0.19919231, 0.19919231, 0.37051028,\n",
       "       0.39435408, 0.19919231, 0.28485129, 0.39435408, 0.19919231,\n",
       "       0.39435408, 0.19919231, 0.19919231, 0.19919231, 0.37051028,\n",
       "       0.37051028, 0.28485129, 0.19919231, 0.67517483, 0.58951585,\n",
       "       0.39435408, 0.67517483, 0.67517483, 0.67517483, 0.19919231,\n",
       "       0.39435408, 0.28485129, 0.39435408, 0.19919231, 0.67517483,\n",
       "       0.76083382, 0.19919231, 0.37051028, 0.19919231, 0.19919231,\n",
       "       0.67517483, 0.28485129, 0.58951585, 0.58951585, 0.19919231,\n",
       "       0.39435408, 0.19919231, 0.28485129, 0.19919231, 0.39435408,\n",
       "       0.39435408, 0.19919231, 0.39435408, 0.19919231, 0.19919231,\n",
       "       0.39435408, 0.19919231, 0.48001306, 0.28485129, 0.39435408,\n",
       "       0.19919231, 0.19919231, 0.19919231, 0.67517483, 0.58951585,\n",
       "       0.37051028, 0.58951585, 0.58951585, 0.19919231, 0.28485129,\n",
       "       0.28485129, 0.58951585, 0.19919231, 0.37051028, 0.19919231,\n",
       "       0.39435408, 0.19919231, 0.39435408, 0.28485129, 0.28485129,\n",
       "       0.19919231, 0.19919231, 0.19919231, 0.39435408, 0.67517483,\n",
       "       0.39435408, 0.19919231, 0.67517483, 0.19919231, 0.58951585,\n",
       "       0.19919231, 0.39435408, 0.58951585, 0.67517483, 0.58951585,\n",
       "       0.39435408, 0.19919231, 0.19919231, 0.67517483, 0.37051028,\n",
       "       0.58951585, 0.19919231, 0.19919231, 0.19919231, 0.58951585,\n",
       "       0.19919231, 0.19919231, 0.58951585, 0.19919231, 0.39435408,\n",
       "       0.19919231, 0.58951585, 0.19919231, 0.19919231, 0.19919231,\n",
       "       0.28485129, 0.67517483, 0.58951585, 0.19919231, 0.19919231,\n",
       "       0.39435408, 0.19919231, 0.19919231, 0.39435408, 0.67517483,\n",
       "       0.19919231, 0.39435408, 0.58951585, 0.19919231, 0.19919231,\n",
       "       0.58951585, 0.58951585, 0.67517483, 0.39435408, 0.28485129,\n",
       "       0.39435408, 0.58951585, 0.67517483, 0.37051028, 0.19919231,\n",
       "       0.39435408, 0.58951585, 0.67517483, 0.67517483, 0.19919231,\n",
       "       0.19919231, 0.58951585, 0.19919231, 0.58951585, 0.19919231,\n",
       "       0.39435408, 0.37051028, 0.19919231, 0.67517483, 0.58951585,\n",
       "       0.19919231, 0.39435408, 0.58951585, 0.19919231, 0.19919231,\n",
       "       0.39435408, 0.67517483, 0.19919231, 0.28485129, 0.67517483,\n",
       "       0.58951585, 0.58951585])"
      ]
     },
     "execution_count": 25,
     "metadata": {},
     "output_type": "execute_result"
    }
   ],
   "source": [
    "prediction_accuresy=LR_Model.predict(X_train)\n",
    "prediction_accuresy"
   ]
  },
  {
   "cell_type": "code",
   "execution_count": 26,
   "id": "5ab55c23",
   "metadata": {},
   "outputs": [],
   "source": [
    "# y_pred=pipe.predict(X_test)\n",
    "# y_pred\n"
   ]
  },
  {
   "cell_type": "code",
   "execution_count": 27,
   "id": "294b2c0b",
   "metadata": {},
   "outputs": [
    {
     "data": {
      "text/html": [
       "<div>\n",
       "<style scoped>\n",
       "    .dataframe tbody tr th:only-of-type {\n",
       "        vertical-align: middle;\n",
       "    }\n",
       "\n",
       "    .dataframe tbody tr th {\n",
       "        vertical-align: top;\n",
       "    }\n",
       "\n",
       "    .dataframe thead th {\n",
       "        text-align: right;\n",
       "    }\n",
       "</style>\n",
       "<table border=\"1\" class=\"dataframe\">\n",
       "  <thead>\n",
       "    <tr style=\"text-align: right;\">\n",
       "      <th></th>\n",
       "      <th>PassengerId</th>\n",
       "      <th>Survived</th>\n",
       "      <th>Pclass</th>\n",
       "      <th>Name</th>\n",
       "      <th>Sex</th>\n",
       "      <th>Age</th>\n",
       "      <th>SibSp</th>\n",
       "      <th>Parch</th>\n",
       "      <th>Ticket</th>\n",
       "      <th>Fare</th>\n",
       "      <th>Embarked</th>\n",
       "    </tr>\n",
       "  </thead>\n",
       "  <tbody>\n",
       "    <tr>\n",
       "      <th>0</th>\n",
       "      <td>1</td>\n",
       "      <td>0</td>\n",
       "      <td>3</td>\n",
       "      <td>Braund, Mr. Owen Harris</td>\n",
       "      <td>0</td>\n",
       "      <td>22.0</td>\n",
       "      <td>1</td>\n",
       "      <td>0</td>\n",
       "      <td>A/5 21171</td>\n",
       "      <td>7.2500</td>\n",
       "      <td>0</td>\n",
       "    </tr>\n",
       "    <tr>\n",
       "      <th>1</th>\n",
       "      <td>2</td>\n",
       "      <td>1</td>\n",
       "      <td>1</td>\n",
       "      <td>Cumings, Mrs. John Bradley (Florence Briggs Th...</td>\n",
       "      <td>1</td>\n",
       "      <td>38.0</td>\n",
       "      <td>1</td>\n",
       "      <td>0</td>\n",
       "      <td>PC 17599</td>\n",
       "      <td>71.2833</td>\n",
       "      <td>1</td>\n",
       "    </tr>\n",
       "    <tr>\n",
       "      <th>2</th>\n",
       "      <td>3</td>\n",
       "      <td>1</td>\n",
       "      <td>3</td>\n",
       "      <td>Heikkinen, Miss. Laina</td>\n",
       "      <td>1</td>\n",
       "      <td>26.0</td>\n",
       "      <td>0</td>\n",
       "      <td>0</td>\n",
       "      <td>STON/O2. 3101282</td>\n",
       "      <td>7.9250</td>\n",
       "      <td>0</td>\n",
       "    </tr>\n",
       "    <tr>\n",
       "      <th>3</th>\n",
       "      <td>4</td>\n",
       "      <td>1</td>\n",
       "      <td>1</td>\n",
       "      <td>Futrelle, Mrs. Jacques Heath (Lily May Peel)</td>\n",
       "      <td>1</td>\n",
       "      <td>35.0</td>\n",
       "      <td>1</td>\n",
       "      <td>0</td>\n",
       "      <td>113803</td>\n",
       "      <td>53.1000</td>\n",
       "      <td>0</td>\n",
       "    </tr>\n",
       "    <tr>\n",
       "      <th>4</th>\n",
       "      <td>5</td>\n",
       "      <td>0</td>\n",
       "      <td>3</td>\n",
       "      <td>Allen, Mr. William Henry</td>\n",
       "      <td>0</td>\n",
       "      <td>35.0</td>\n",
       "      <td>0</td>\n",
       "      <td>0</td>\n",
       "      <td>373450</td>\n",
       "      <td>8.0500</td>\n",
       "      <td>0</td>\n",
       "    </tr>\n",
       "  </tbody>\n",
       "</table>\n",
       "</div>"
      ],
      "text/plain": [
       "   PassengerId  Survived  Pclass  \\\n",
       "0            1         0       3   \n",
       "1            2         1       1   \n",
       "2            3         1       3   \n",
       "3            4         1       1   \n",
       "4            5         0       3   \n",
       "\n",
       "                                                Name  Sex   Age  SibSp  Parch  \\\n",
       "0                            Braund, Mr. Owen Harris    0  22.0      1      0   \n",
       "1  Cumings, Mrs. John Bradley (Florence Briggs Th...    1  38.0      1      0   \n",
       "2                             Heikkinen, Miss. Laina    1  26.0      0      0   \n",
       "3       Futrelle, Mrs. Jacques Heath (Lily May Peel)    1  35.0      1      0   \n",
       "4                           Allen, Mr. William Henry    0  35.0      0      0   \n",
       "\n",
       "             Ticket     Fare  Embarked  \n",
       "0         A/5 21171   7.2500         0  \n",
       "1          PC 17599  71.2833         1  \n",
       "2  STON/O2. 3101282   7.9250         0  \n",
       "3            113803  53.1000         0  \n",
       "4            373450   8.0500         0  "
      ]
     },
     "execution_count": 27,
     "metadata": {},
     "output_type": "execute_result"
    }
   ],
   "source": [
    "# r2_score(Y_test,y_pred)\n",
    "titanic_data.head()"
   ]
  },
  {
   "cell_type": "code",
   "execution_count": 28,
   "id": "0d1790f1",
   "metadata": {},
   "outputs": [
    {
     "name": "stdout",
     "output_type": "stream",
     "text": [
      "[0.67517483]\n"
     ]
    }
   ],
   "source": [
    "survid=pipe.predict(pd.DataFrame([\n",
    "    [1,1]],\n",
    "    columns=['Pclass','Embarked']\n",
    "))\n",
    "print(survid)"
   ]
  },
  {
   "cell_type": "code",
   "execution_count": 29,
   "id": "1ec24903",
   "metadata": {},
   "outputs": [],
   "source": [
    "from sklearn.preprocessing import StandardScaler\n",
    "\n",
    "scaler=StandardScaler()\n",
    "X_scaled=scaler.fit_transform(X)"
   ]
  },
  {
   "cell_type": "code",
   "execution_count": 30,
   "id": "e65e8ddb",
   "metadata": {},
   "outputs": [
    {
     "name": "stdout",
     "output_type": "stream",
     "text": [
      "Probabily of Survived :  [0.5744792]\n"
     ]
    },
    {
     "name": "stderr",
     "output_type": "stream",
     "text": [
      "/Users/aditya/opt/anaconda3/envs/datascience_env/lib/python3.9/site-packages/sklearn/base.py:450: UserWarning: X does not have valid feature names, but StandardScaler was fitted with feature names\n",
      "  warnings.warn(\n",
      "/Users/aditya/opt/anaconda3/envs/datascience_env/lib/python3.9/site-packages/sklearn/base.py:450: UserWarning: X does not have valid feature names, but LinearRegression was fitted with feature names\n",
      "  warnings.warn(\n"
     ]
    }
   ],
   "source": [
    "import pickle\n",
    "pickle.dump(LR_Model,open('titanic_model_new','wb'))\n",
    "loaded_model=pickle.load(open('titanic_model_new','rb'))\n",
    "survived = loaded_model.predict(scaler.transform([[3,0]]))\n",
    "print(\"Probabily of Survived : \",(survived))"
   ]
  },
  {
   "cell_type": "code",
   "execution_count": null,
   "id": "3b6e3e26",
   "metadata": {},
   "outputs": [],
   "source": []
  }
 ],
 "metadata": {
  "kernelspec": {
   "display_name": "Python 3 (ipykernel)",
   "language": "python",
   "name": "python3"
  },
  "language_info": {
   "codemirror_mode": {
    "name": "ipython",
    "version": 3
   },
   "file_extension": ".py",
   "mimetype": "text/x-python",
   "name": "python",
   "nbconvert_exporter": "python",
   "pygments_lexer": "ipython3",
   "version": "3.9.12"
  }
 },
 "nbformat": 4,
 "nbformat_minor": 5
}
